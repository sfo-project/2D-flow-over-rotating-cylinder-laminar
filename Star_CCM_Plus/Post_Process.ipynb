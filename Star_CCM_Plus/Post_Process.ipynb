{
 "cells": [
  {
   "cell_type": "markdown",
   "metadata": {},
   "source": [
    "# CFD Results Post-Process and Validation\n",
    "\n",
    "**The final step for the development of a CFD simulation for a problem of interest is to process and examine the validity of the obtained numerical results (a.k.a post-processing and validation step). This steps requires an in-depth engineering knowledge about the fundamentals of the physical problem of interest. Thus, the value of investing time in understanding the fundamental physics of the flow, once again is highlighted here. This process is done starting from general inspection on CFD simulation results and ends with more detail validation process.**\n",
    "\n",
    "The obtained results for 2D laminar flow over a rotating cylinder with Reynolds of 100 (Re=100) and Tip Speed Ratio of 0.5 (TSR=0.5) is processed and discussed in this section. It should be noted that the post-processing and validation of all simulations with different Reynolds number and Tip Speed Ratio (TSR) would be similar to the presented procedure here. The first general rule of thumb to check the convergence of a CFD simulation is to visualize the residuals of key flow field variables, such as continuity, momentum, velocity and etc.. In STAR-CCM+ once user starts to run the simulation, the Residual values for the relative variables, based on the choices of models, are visualized in the solver window. Furthermore, users can manage details of the plotted residuals or add other residuals to be visualized via <span style=style=\"background-color:lightgrey;\">Plots/Residuals</span>.\n",
    "\n",
    "\n",
    "<img src=\"./Images/Re100_TSR0p5_Residuals.png\" width=\"700\">\n",
    "</br>\n",
    "Fig. 1 - Residuals of continuity and momentum in streamwise and normal direction (x- & y-direction) for simulation of flow over a rotating cylinder with Re=100 and TSR=0.5.\n",
    "\n",
    "Fig. 1 visualizes the residual values of continuity and momentum in x- and y-direction versus the number of iterations for first 1500 iterations. The residual value of each variable denotes how the numerical value of that variable is differing from the previous time step. Lower value of residual indicates the obtained numerical value of the variable of interest has converged to a specific value. The general decreasing trend of the residual values during first 50 iterations confirms that the numerical solution of the conservation/governing equations are converging to specific final values. Since this case study is unsteady, solver solves the governing equations while marching through time. This is reflected as periodic fluctuations of residual values as a function of number of iterations. As a rule of thumb reaching the continuity residual of 10E-3 at each time step is the first necessary but not sufficient general criteria to confirm the convergence of the CFD simulation. In this study case this criteria is reached after about 100 iterations and after about 1000 iterations the residuals values fluctuate below value of 2E-5, which is a solid necessary confirmation of CFD simulation convergence. Users can also define criteria to stop the iteration process once the desired criteria is met during the iteration process. These settings are available at via <span style=style=\"background-color:lightgrey;\">Stopping Criteria\\ [right click]</span> path. In this case study the \"Stopping Criteria\" was defined by the \"Maximum Physical Time\" of 200 [sec]. This set time interval would provide all the flow feature history needed. Furthermore, the velocity field within the CFD domain was visualized and checked frequently as simulations were running. This method is vital when user are not sure about solid \"Stopping Criteria\" during the first runs.\n",
    "\n",
    "The second step is to visualize dimensionless form of the important variables within the CFD domain. This visualization step can be problem specific and should be performed over an adequate plane of choice. For most of the problems contour of normalized velocity or pressure, over a horizontal or vertical plane at the center of the CFD domain, is a good start point. The path to define an adequate probe such as planes or lines is <span style=style=\"background-color:lightgrey;\">Derived Parts/ [right click]</span>. With this path a user can define various type of probes to visualize the obtained numerical results over them. However, for the current problem since the entire domain is two dimensional and planar, it would make the entire domain the best candidate for the post-processing plane.\n",
    "\n",
    "User should now define the normalized variable of interest that needs to be visualized. The normalized streamwise velocity by the inlet velocity can be defined using <span style=style=\"background-color:lightgrey;\">Tools/Field Functions/ [[right click]</span>, name the variable in <span style=style=\"background-color:lightgrey;\">Function Name</span> (i.e. Ux/U0) and put the required formula for the variable of interest with correct syntax under <span style=style=\"background-color:lightgrey;\">Definition</span> (i.e. $${Velocity}[0]/1). This will calculate the normalized streamwise velocity with free stream velocity within entire CFD domain. It order to visualize the defined normalized flow field variable in the previous step users should use <span style=style=\"background-color:lightgrey;\">Scenes/Scalar Scene 1/Displayers/Scalar 1/Scalar Field</span> and choose the Ux/U0.\n",
    "\n",
    "<img src=\"./Images/velocity_cont_Re100.png\" width=\"700\" align=\"middle\">\n",
    "Fig. 2 - Instantaneous contours of normalized streamwise velocity with the free stream velocity over a cylinder for Re=100 and TSR=0.5.\n",
    "\n",
    "Fig. 2 visualizes the instantaneous normalized streamwise velocity with free stream for flow field with Reynolds numbers of 100. As visualized in Fig. 2 the flow enters the domain (left to right) with normalized velocity of 1. Due to the imposed no-slip boundary condition over the surface of cylinder, the velocity instantly decrease to zero on the nose of the cylinder and a laminar boundary layer starts to form and grow around the cylinder's surface. Moving slightly further downstream at the top and bottom edges of the cylinder, where the formed laminar boundary layer is exposed to the free stream velocity, a shear layer will form and results in to an accelerated flow region, colored with dark red, at these two points. Furthermore, since the body of cylinder, as a blunt body, is blocking the incoming flow a decelerated region of flow would form right at the back of the cylinder. This area is the place the flow recirculates and two counter rotating vortices, as a result of flow moving over the top and bottom curved surfaces of cylinder, would form here. In flow fields with Reynolds number higher than 100 due to the dominance of the inertial forces over the viscous forces within the flow, this strong vortices on top and bottom of the cylinder and the recirculated region in the wake of the cylinder gets detached from the flow and start to shed in to the wake region with a know frequency. \n",
    "The distinguished difference in this case study is the counter clockwise rotation of the cylinder and it's effect on the formed boundary layer and wake of the cylinder. As shown in Fig. 1 the cylinder's rotation result into an asymmetric wake with a concave downward signature of the recirculation region. The shape and pattern of the shed vortices from the body of cylinder also gets an asymmetric shape due to the cylinder rotation. This asymmetric pattern lead to a downward pressure gradient (i.e. downward lift) on the cylinder body. This is also known as the \"Magnus\" effect as discussed earlier in the Physics section. Similar to the case study of flow over a stationary cylinder, after a specific time interval a pattern of the shed vortices in the wake of the cylinder is formed. This region is referred to as the von-Karman vortex street. The difference in this case study is the asymmetric pattern of the von-Karman street.\n",
    "\n",
    "In addition to instantaneous velocity contours visualization, as showed and discussed above, users can also produce an <span style=style=\"background-color:lightgrey;\">Animation</span> (temporal evolution) of these instantaneous contours. To perform this post processing step users should first save the corresponding temporally variable data from the beginning of the simulation. The path of <span style=style=\"background-color:lightgrey;\">Solution Histories/ [right click]/New...</span> would create a * .simh file and ask user for a name and location to save it. After assigning the name and saving path for this database a sub-folder on the tree of progress will be created, where the field variables of interest can be set and saved in it using the path <span style=style=\"background-color:lightgrey;\">Solution Histories/ [right click on subfolder]/Edit.../Functions/ [select variables of interest from the list]</span>. The frequency for saving these data is set via <span style=style=\"background-color:lightgrey;\">Update</span> option. Taking the path of <span style=style=\"background-color:lightgrey;\">[right click on sub-folder of * .simh file]/Create Recorded Solution View</span> would create another sub-folder under <span style=style=\"background-color:lightgrey;\">Solution View</span>. This folder will have the stored field variables and users can visualized and make an animation of the variable of interest by creating a new scene via <span style=style=\"background-color:lightgrey;\">Scenes/New Scene/Scalar</span> and drag-and-drop this <span style=style=\"background-color:lightgrey;\">Solution Views</span> variable in it. Going back to the properties of the created solution view variable user can march through the temporal evolution of the flow field variables and also create animations."
   ]
  },
  {
   "cell_type": "markdown",
   "metadata": {},
   "source": [
    "**After performing the general post-processing steps, the user need to perform more detail oriented post-processing to confirm the validity of the CFD simulation. This stage can be a state-of-the-art. Comparing the numerical results against the theory (discussed earlier) or any other available experimental results is the final stage of post-processing. It is extremely important to calculate the correct corresponding numerical variables and compare them against the experimental or other numerical data.**\n",
    "\n",
    "In order to validate the obtained numerical results from these simulations the numerically predicted drag and lift coefficients for the simulated rotating cylinder were compared against corresponding values from another numerical study by [Stojković et. al.](http://cfd.mace.manchester.ac.uk/twiki/pub/Main/FlettnerRotors/Stojkovic_PoF_2002.pdf) for flow field with $Re=100$ with different Tip Speed Ratios (TSR). The drag and lift coefficients are defined as follows:\n",
    "\n",
    "$$ C_D~=~\\frac{F_D}{\\frac{1}{2} . \\rho_{ref} . V_{ref} ^2 . A_{proj}}. $$\n",
    "\n",
    "$$ C_L~=~\\frac{F_L}{\\frac{1}{2} . \\rho_{ref} . V_{ref} ^2 . A_{proj}}. $$\n",
    "\n",
    "\n",
    "In these equations $F_D$ and $F_L$, are the total drag and lift force due to pressure and viscous forces within the flow acting on the cylinder's surface in the streamwise and normal direction. These force values are normalized with the available momentum within the undisturbed incoming flow that could be exerted on the cylinder. The value of this momentum is calculated using $\\rho_{ref}$ as the reference density of the flow, which is the density of the flow. $V_{ref}$ as the undisturbed streamwise flow velocity in the inlet and $A_{proj}$, which is the projected area of the cylinder surface. For a two-dimensional cylinder the projected area is equal to the diameter of the cylinder. This is the area where pressure and viscus forces are acting on the cylinder in the streamwise direction. It should be noted that the pressure and viscous forces in the perpendicular direction to streamwise direction cancel each other. Hence, the forces and areas that they act on does not have any contribution to the drag force and coefficient.\n",
    "\n",
    "Users can calculate and report the value of drag coefficient following the path of <span style=style=\"background-color:lightgrey;\">Reports\\ [right click]\\New Report\\Force Coefficient</span>. Taking this path will create a new variable named <span style=style=\"background-color:lightgrey;\">Force Coefficient 1</span>. Users should edit and describe the desired direction and reference variables to define the desired force coefficient of interest based on the above-mentioned equations and explanation of it's variables. It should be noted in this case study the flow field is unsteady, thus the value of force coefficient will have a temporal evolution. For post-processing purposes the temporal evolution should be monitored and saved, while the simulation is running. Users can create a monitor plot of the force coefficient of interest via <span style=style=\"background-color:lightgrey;\">Reports/ [right click on Force Coefficient variable]/Create Monitor and Plot from Report</span>. This will create a new variable under <span style=style=\"background-color:lightgrey;\">Monitor</span> folder and visualizes the temporal evolution of desired variable/s. The cosmetic settings for the these plots can be applied by editing the inputs in the properties window. Fig. 3 shows the obtained temporal lift and drag coefficient values for flow field around cylinder with Reynolds of 100 and TSR or 0.5 on right and left respectively:\n",
    "\n",
    "<img src=\"./Images/Cl_Cd_Re100_TSR0p5.png\" width=\"700\" align=\"middle\">\n",
    "Fig. 3 - Temporal evolution of Cl (on top) and Cd (on bottom) for flow over a cylinder with Re=100 and TSR=0.5.\n",
    "\n",
    "As shown on top of Fig. 3 the lift coefficient of the cylinder starts from $-0.4$ value. This corresponds to the asymmetry of the flow field around the cylinder due to the cylinder rotation. After specific time steps (about 5 sec.) once the boundary layer quickly detaches from the cylinder's wall and vortices start to shed from top and bottom of the cylinder into it's wake region, the lift coefficient value start to fluctuate periodically, showing the foot-print of periodic asymmetric vortex shedding. The final corresponding value of the lift coefficient for this flow field will be the mean value of these temporal fluctuations, after the 5 seconds of transient flow. To calculate this final value one can export the numerical data via a right click on the plot. The numerical data, in * .CSV format, can be post-process separately and the mean of the lift coefficient value can be calculated.\n",
    "\n",
    "On the other side of the spectrum, as shown on the bottom hand side of Fig. 3 the drag coefficient of the cylinder initially has a positive value of a bout $1.2$, since the cylinder is blocking the flow as a blunt body. Due to instantaneous rotation of the cylinder the drag coefficient starts to increase. After about 5 seconds the values of the drag coefficient starts to fluctuate within a finite range around a fix mean value (similar to the lift coefficient). The reason behind these fluctuations is again the periodic asymmetric vortex generation and shedding from the cylinder wall and unsteadiness of the flow. The final value of the drag coefficient will therefore be the mean of the steady fluctuating, after the 5 seconds of transient flow, values that can be calculated using the exported data from the plot. Table 1 provides a summary of comparison between the numerically estimated and previously measured values of drag and lift coefficients:\n",
    "\n",
    "| Tip Speed Ratio| $C_D$ (SFO-proj.) | $C_D$ (Stojković *et. al.*) | Relative Error [%]| $C_L$ (SFO-proj.)| $C_L$ (D. Stojković *et. al.*)| Relative Error [%]|\n",
    "| :-------------:|:-----------:|:--------:|:-------:|:-----------:|:--------:|:-------:|\n",
    "| 0.5            | 1.2819      | 1.2650   |1.32     | 1.2180      | 1.220    |0.10     |\n",
    "| 1              | 1.1112      | 1.1080   |0.20     | 2.4978      | 2.504    |0.26     |\n",
    "| 1.5            | 0.8358      | 0.8180   |2.10     | 3.8962      | 3.900    |0.10     |\n",
    "| 2              | 0.5415      | 0.4611   |17.40    | 5.5381      | 5.480    |1.00     |\n",
    "Table 1. Comparison between the numerically predicted drag and lift coefficients on a rotating cylinder with Re=100 and different Tip Speed Ratios against the work of [Stojković et. al.](http://cfd.mace.manchester.ac.uk/twiki/pub/Main/FlettnerRotors/Stojkovic_PoF_2002.pdf).\n",
    "\n",
    "As shown in the Table 1 the values of the relative error percentages for $C_D$ are below 2.1% for case studies with relatively low TSR values (below 1.5). Furthermore, Table 1 reveals that for TSR value of 2 and above the relative error percentage of corresponding drag coefficient values increases significantly. The reason behind this is the increase of the TSR value result into more complex physics of the flow field, especially right behind the cylinder were viscous effects become dominant in this region, which was discussed in great details in the physics sections. As long as the flow regime is laminar this error can be reduced by either decreasing the time step value of the simulation from 0.01 second and/or using more accurate numerical schemes. However, if increasing the TSR value lead into change of a flow regime from Laminar to Transitional or Turbulent flow, adequate mesh resolution and if required numerical scheme should be used to accurately estimated the drag coefficient of the rotating cylinder and simulate the flow field around and in the wake of the cylinder. \n",
    "\n",
    "Table 1 also reveals that the obtained lift coefficient values show better agreement compared to the corresponding numerical results reported by [Stojković et. al.](http://cfd.mace.manchester.ac.uk/twiki/pub/Main/FlettnerRotors/Stojkovic_PoF_2002.pdf) even for large TSR values (above 1.5). As shown in Table 1 the relative error of numerically simulated lift coefficient values were less than 1% in all cases. The hypothesis for this low relative error value, despite large corresponding values for drag coefficients, is that the physics of the flow field on the top and bottom points on the cylinder wall are yet simple and viscous effect in these regions is not significant. This was one of the key reasons presented and discussed in the physics section to explain why using potential theory is a valid tool to investigate this flow field theoretically. Now this is being validated using the CFD simulations. Furthermore, Table 1 also confirms that increase of TSR value lead to stronger Magnus effect and larger lift coefficient as discussed earlier.\n",
    "\n",
    "At this stage one can conclude that this CFD numerical simulation is validated to study unsteady laminar flow over a rotating cylinder. Therefore, these simulations can be used for similar or more complex problems, such as three dimensional laminar flow over a rotating cylinder or sphere. This can be done via correct implementation in changing the corresponding solver, models and/or boundary conditions."
   ]
  },
  {
   "cell_type": "code",
   "execution_count": null,
   "metadata": {
    "collapsed": true
   },
   "outputs": [],
   "source": []
  }
 ],
 "metadata": {
  "kernelspec": {
   "display_name": "Python 3",
   "language": "python",
   "name": "python3"
  },
  "language_info": {
   "codemirror_mode": {
    "name": "ipython",
    "version": 3
   },
   "file_extension": ".py",
   "mimetype": "text/x-python",
   "name": "python",
   "nbconvert_exporter": "python",
   "pygments_lexer": "ipython3",
   "version": "3.5.2"
  }
 },
 "nbformat": 4,
 "nbformat_minor": 0
}
