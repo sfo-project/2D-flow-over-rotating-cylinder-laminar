{
 "cells": [
  {
   "cell_type": "markdown",
   "metadata": {},
   "source": [
    "# CFD Problem's Physics & Theory\n",
    "\n",
    "**In developing CFD simulation for a fluid mechanic problem understanding the general physics and fundamental theory of the problem is extremely important. This knowledge would provide users the ability to make logical decisions about the geometry of CFD domain, choice of proper boundary conditions and numerical models for the CFD simulation. Furthermore, user will have a general big picture on the expected outcome of simulation. These knowledges and abilities form the foundation for a successful implementation and validation of the CFD simulation.**\n",
    "\n",
    "**In other words understanding physics and theory of problem before developing a CFD simulation can be thought of turning on a flash light before taking any step in a completely dark room. Hence, let's review the fundamental physics and theory behind the problem of \"2D Laminar Flow over a rotating cylinder\" as the first step for development and validation of CFD simulation for this problem of interest:**\n",
    "\n",
    "To review the physics behind the flow over a rotating cylinder, the basic problem to be studied first is the flow over a stationary cylinder. Starting the review of a flow around a stationary cylinder will form the basis to leap into understanding and analyzing flow over a rotating cylinder. The problem of flow over a stationary cylinder was first studied using the \"Potential Flow Theory\", when the concept and understanding of \"Boundary Layer\" wasn't present yet (maybe cite the original paper). The fundamental assumption for the Potential Flow theory is neglecting the viscous effect within the flow field. This may not seem to be a great assumption at the beginning, since it is obvious that viscous effect play an important role in majority of fluid mechanics problems. However, this assumption helps to develop a better understanding of the generated resultant forces due to the flow and cylinder interaction. Furthermore, it can be shown that the viscous effect within the flow has minimal contribution into the lift force generation, which is the main variable of interest in the problem of flow over a rotating cylinder.\n",
    "\n",
    "\n",
    "Potential flow simplifies the problem by introducing a new variable called \"Streamfunction\" $\\psi$. For a 2D problem the streamfunction combines the two velocity components into one. Therefore, instead of dealing with two variables, only one variable should be handled. The main assumptions to find the streamfunction equation are: Two-dimensional and incompressible flow. As a result of these assumptions the Laplace's equation to find the streamfunction equation and then the velocity field of the flow. Bernoulli's Equation will give us the pressure distributions. This will give us a good estimate of the lift force.\n",
    "\n",
    "\n",
    "One more advantage of using Laplace's Equation is that it is linear. We can add streamfunctions of two flows to get the effect of the combined flow . Using the potential flow theory and fundamental of superposition, the flow over a stationary cylinder can be modeled by combination of uniform flow visualized in Fig. 1(a) and a doublet (i.e. combination of a point source and sink placed close together) visualized in Fig. 1(b) as shown in the figure 1(c) below. \n",
    "\n",
    "<img src=\"./Images/flow_over_stationary_cylinder.png\" width=\"600\"> \n",
    "Fig. 1. Using potential flow theory linear combination of a Uniform flow and a Doublet would result into the flow over a stationary cylinder.\n",
    "\n",
    "For this flow field the stream function in cylindrical coordinate is as follows:\n",
    "\n",
    "$$\\psi = U~r~sin\\theta -\\frac{\\dot q~(\\theta_1 - \\theta_2)}{2\\pi}~, $$\n",
    "\n",
    "where $\\dot q$ is the volume flow rate coming out of the point source, $\\theta$ is an angle of a line from sink/source to an arbitrary point measured from horizon and variables labeled with subscript 1 and 2 denote variables of point sink and source respectively. In this equation assuming that the distance \"a\" between the sink and source is relatively small, it can be further simplified using a geometrical approximation as follows:\n",
    "\n",
    "$$ \\theta_1 - \\theta_2 \\approx \\frac{2~a~sin\\theta}{r}$$.\n",
    "\n",
    "$$ \\psi = U~r~sin\\theta -\\frac{\\dot q~a~sin\\theta}{r}$$\n",
    "\n",
    "Based on the predefined relation between the velocity field and streamfunction according to the Potential Flow theory one can obtain the velocity components as follows\n",
    "\n",
    "$$u_r = \\frac{1}{r}\\frac{\\partial\\psi}{\\partial r} = U~(1-\\frac{R^2}{r^2})~cos\\theta~,$$\n",
    "\n",
    "$$u_\\theta = -\\frac{\\partial \\psi}{\\partial r} = -U~(1+\\frac{R^2}{r^2})~sin\\theta~.$$\n",
    "\n",
    "In these equations $R = \\sqrt {\\frac{\\dot q~a}{U~\\pi}}$ is the radius of the cylinder on the surface. According to these equations on the surface of the cylinder ($r = R$) the radial component of the velocity field $u_r$ will be equal to zero and the tangential component $u_\\theta$ will be equal to $-2~U~sin\\theta$.\n",
    "\n",
    "At this stage using the Potential Flow theory a general theoretical equation for the velocity field of the flow over a stationary cylinder is developed. It should be noted that in this analysis the general Navier-Stokes equations were substituted via the Laplace equation, based on the fundamental assumptions for potential flows, to analyze the velocity field. This simplification, however led to ignoring the pressure field within the flow. In Potential Flow theory, based on the use assumptions, the Bernoulli's equation can be used for evaluation of the pressure distribution within the flow. In other word in Potential Flow equations of conservation of mass and momentum is substituted with the Laplace equation and equation of conservation of energy is substituted with the Bernoulli's equation. Using the Bernoulli equation one can consider two points along a streamline between a point far from the cylinder with pressure of $p_\\infty$ pressure and the stagnation point on the cylinder with pressure of $P_s$. Then the Bernoulli's equation can be written and simplified, using previously derived equations for the velocity field, to evaluate pressure coefficient of the cylinder as follows:\n",
    "\n",
    "$$p_\\infty + \\frac{1}{2}\\rho U^2 = p_s + \\frac{1}{2}u_\\theta$$\n",
    "\n",
    "$$p_s = p_\\infty + \\frac{1}{2} \\rho U^2 (1-4sin^2\\theta)$$\n",
    "\n",
    "$$C_p = \\frac{p_s - p_\\infty}{\\frac{1}{2} \\rho U^2} = 1-4sin^2\\theta$$\n",
    "\n",
    "Fig. 3 shows the plot of comparison between experimentally and theoretically obtained pressure coefficients versus $\\theta$ around a stationary cylinder in a uniform flow. It should be noted that $\\theta$ is the angle of the line made by points on the cylinder surface and it's center and the horizon. For $\\theta$ values between 180$\\deg$ to 135$\\deg$ the agreement between theoretical and experimental values are satisfactory. However, for $\\theta$ smaller that 135$\\deg$, the theoretical results predicts a much lower pressure compared to the experiment measurements. The reason behind the contradiction is that in the experimental measurements the viscous effects are present. This effect dissipates part of the flow field momentum, which leads to pressure loss in the wake of the cylinder. On the other side of the spectrum, since in the theoretical analysis the viscous effect are neglected one observe a symmetrical and higher pressure coefficient values. \n",
    "\n",
    "<img src=\"./Images/PressureDistri.jpg\" width=\"300\"> \n",
    "Fig. 3. A comparison between the experimentally measured pressure coefficient distribution versus theoretically evaluated one from potential flow theory around a circular cylinder.\n",
    "\n",
    "At this stage a detail undestanding about the velocity and pressure field within the flow over a stationary cylinder is obtained. In order to discuss the details of the flow field around a rotating cylinder one can add a clockwise vortex with strength $\\Gamma$ to the above-discussed flow. The combined streamfunction is the given by:\n",
    "\n",
    "$$\\psi = U~r~(1-\\frac{R^2}{r^2})~sin\\theta + \\frac{\\Gamma}{2\\pi}~\\ln r$$\n",
    "\n",
    "Fig. 4 visualizes the streamline pattern for increasing vortex strength ($\\Gamma$). As shown in this figure the streamlines are more stacked at the top of the cylinder compared to the bottom. Therefore the velocity of the fluid is higher at the top compared to it's bottom. Consequently, according to the Bernoulli's equation, the pressure at the top of the cylinder is less than the bottom. This pressure difference between the top and bottom of the cylinder gives rise to a force in the perpendicular direction to the streamwise flow and is called the **Lift** force. This force increases with the strength of the vortex $\\Gamma$. Following the previous analysis one can show that the resultant lift force per unit span is given by:\n",
    "\n",
    "$$ F_L = \\rho~\\Gamma~U$$\n",
    "\n",
    "<img src=\"./Images/RotatingCylinder.jpg\" width=\"500\"> \n",
    "Fig. 4. Visualized streamlines around a cylinder modeled as a free vortex with strength of $\\Gamma$.\n",
    "\n",
    "In a viscous fluid, a cylinder spinning in an otherwise uniform flow can generate lift. A thin layer of fluid in the boundary layer is forced to spin with the cylinder because of viscous friction, and its effect on the surrounding flow is similar to that produced by the vortex on the flow over a non-spinning cylinder. The spin produces circulation around the cylinder, and the strength of this \"virtual\" vortex depends on the spin rate of the cylinder. The appearance of a side force on a spinning cylinder or a sphere is called the *Magnus Effect*, after the Swedish physicist Gustav Magnus who first described it clearly in 1853. \n",
    "\n",
    "So, we now know how Lift and Drag force are generated in flow around a rotating cylinder. Now the question arises - Why do we study this? Where can we use these results? The flow over a rotaing cylinder is one of the basic problems of Fluid Mechanics. The results from this study are used in many applications. We can study the lift generated on a golf ball, tennis ball, cricket ball etc. Another interesting phenomenon due to viscous effects is the vortex shedding in an unsteady flow. Periodic vortex shedding causes fluctuating forces on the cylinder, acoustic noise and fluid mixing among other several effects. The result of these fluctuating forces can be structural vibrations which can sometimes lead to structural failure due to resonance. Flow over a rotating cylinder is studied to understand the dynamics of flow around bridge piles, offshore oil legs etc. Thus we can see the importance of this study.\n",
    "\n",
    "With this we have gained a comprehensive knowledge about the physics of the problem. Now we can proceed to the CFD simulation. Further details can be found in this [report](https://www.researchgate.net/publication/288183448_NUMERICAL_INVESTIGATION_OF_UNSTEADY_FLOW_ROUND_A_CIRCULAR_CYLINDER)\n",
    "\n",
    "For more details about the physics, refer to chapters 5 & 6 of \"A Physical Introduction to Fluid Mechanics by Alexander J. Smits\" 2nd edition. You can download the book here - [Download eBook here](http://www.efluids.com/efluids/books/efluids_books.htm)"
   ]
  },
  {
   "cell_type": "code",
   "execution_count": null,
   "metadata": {
    "collapsed": true
   },
   "outputs": [],
   "source": []
  }
 ],
 "metadata": {
  "celltoolbar": "Edit Metadata",
  "kernelspec": {
   "display_name": "Python 3",
   "language": "python",
   "name": "python3"
  },
  "language_info": {
   "codemirror_mode": {
    "name": "ipython",
    "version": 3
   },
   "file_extension": ".py",
   "mimetype": "text/x-python",
   "name": "python",
   "nbconvert_exporter": "python",
   "pygments_lexer": "ipython3",
   "version": "3.5.1"
  }
 },
 "nbformat": 4,
 "nbformat_minor": 0
}
