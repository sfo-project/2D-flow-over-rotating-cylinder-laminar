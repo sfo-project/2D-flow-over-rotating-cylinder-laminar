{
 "cells": [
  {
   "cell_type": "markdown",
   "metadata": {},
   "source": [
    "# CFD Results Post-Process and Validation\n",
    "\n",
    "**The final step for the development of a CFD simulation for a problem of interest is to process and examine the validity of the obtained numerical results (a.k.a post-processing and validation step). These steps require an in-depth engineering knowledge about the fundamentals of the physical problem of interest. Thus, the value of investing time in understanding the fundamental physics of the flow, once again is highlighted here. This process is done starting from general inspection on CFD simulation results and ends with more detail validation process.**\n",
    "\n",
    "This section discusses results for **2D Laminar Flow over a rotating cylinder**. The Reynolds number, based on diameter of the cylinder, in the presented results is 100. However, the presented post processing methodology here can be applied to flows with different Reynolds numbers. The first check point for convergence of a CFD simulation is to check the residuals of the key variables of the flow (e.g., Continuity, X-momentum, Y-momentum etc).  In Fluent, once the user starts the simulation, the residuals for the relevant variables is visualized on the solver's console. Users can manage visualization of residuals using `Solution\\Monitors`.\n",
    "\n",
    "<img src=\"./Images/residual.jpg\" width=\"900\">\n",
    "Fig. 1. Residuals of Continuity and Momentum, in x- and y- directions, for simulation of flow over a rotating cylinder, Re =100 and Tip Speed Ratio ($\\alpha$) = 0.\n",
    "\n",
    "Fig. 1 visualizes the residual values for Continuity and Momentum in x- and y- directions versus number of iterations. Residual of a variable is the difference between the present and previous iterations values. Lower residual implies convergence of the obtained numerical solution. As a rule of thumb reaching continuity residual value of $10^-3$ confirms the validity of numerical solution and it's convergence trend. However, this is only a necessary not sufficient condition for convergence trend. Users can set stopping criteria for different residual values using `Solution/Monitors/Residual` path. For this case study, the criterion was set to 1e-6 for both Continuity and Momentum residual values. \n",
    "\n",
    "For an unsteady simulation another important variable to obtain monotonically decreasing residual values is the choice of the time step. The time step has to be small enough so that the flow field solution develops slowly and details of the flow is simulated correctly, while the computational time and cost requirements are minimized. For this simulation, the time step is set to $0.2$ seconds. Once the simulation starts, the residuals are plotted at every iteration within each time step. The visualize spikes in the residual values shown in Fig. 1 shows an increment within the flow field time. Once the required criterion has met and the flow has progressed to a large time step, the solution can be stopped. \n",
    "\n",
    "After the solution has converged, it is important to visualize important flow field variables within the domain. This step is problem specific and should be performed over an adequate plane of choice. For most of the problems, contours of normalized pressure and velocity, over a horizontal or vertical plane at the center of the domain is a good starting point. However, for this problem, visualization of shed vortices into the wake of the cylinder would be a more beneficial variable to understand the physics of the flow. In order to perform this post-processing step, before running the simulation, first the path for storing solution data should be set. This can be set up via `Soltion/Calculation Activities/Automatic Export/Create/Solution Data Export`. File Type is changed to be **CFD-Post** (post-processing modulus of Fluent) compatible. Quantity to be selected is `Vorticity Magnitude`.  The stored files are to be opened in **CFD-Post** to set up animation of Shedding of vortices.\n",
    "\n",
    "<img src=\"./Images/vortices.png\\\" width = \\\"900\\\">\n",
    "Fig. 2: Visualized vorticity contours for flow over rotating cylinder within the CFD Domain for case studies with different rotational velocities ($\\alpha$) at RE =100. \n",
    "\n",
    "Fig. 2 visualizes the contours of vorticity magnitude within the CFD domain. Flow enters the domain from left to right. Due to the imposed no-slip boundary conditions over the surface of the cylinder, the velocity instantly decreases to zero on the nose of the cylinder and a laminar boundary layer starts to form and grow around the cylinder’s surface. Moving slightly further downstream at the top and bottom edges of the cylinder, where the formed laminar boundary layer is exposed to the free stream velocity, a shear layer will form and result in negatively and positively accelerated flow regions at these two points. These two regions can be thought of as continuous vortices along the cylinder’s surface. In the case study with a stationary cylinder (i.e. $\\alpha = 0$) the body of the cylinder, as a blunt body, is blocking the incoming flow, a decelerated region of flow would form right at the back of the cylinder, as shown in blue. This area is the place in which the flow recirculates and two counter rotating vortices, as a result of flow moving over the top and bottom curved surfaces of the cylinder, would form here. At low Reynolds numbers (i.e. below Re=100) this region would stay attached to the cylinder. However, in this study case the Reynolds number is great enough to cause unsteady vortex shedding from the cylinder. This phenomena is known as the von Karman effect and it is a well-known physical process. For the case study with a fixed cylinder (i.e. $\\alpha = 0$) it is observed that the vortex shedding has a symmetric pattern.\n",
    "\n",
    "Increasing the rotational speed ($\\alpha$) of the cylinder increases the strength of the generated vortices. This is accompanied by an increase in the thickness of the region with closed streamlines around the cylinder. For vortex shedding to occur, vorticity of large strength must be carried to the outer flow, outside the closed streamlines via diffusion. This region of vorticity, in the outer flow, must be sufficiently larger than area of slowly moving, preferably, recirculating fluid. Under these conditions the vorticity can pile up in a certain region of the flow and vortex shedding can take place. For $\\alpha = 0$, a large region behind the cylinder is associated with slowly moving fluid. The size of this region reduces rapidly with increasing rotational velocity. This explains the disappearance of vortex shedding for $\\alpha = 2.0$ as visualized in Fig. 2.\n",
    "\n",
    "**After performing the general post-processing steps, the user need to perform more detail oriented post-processing to confirm the validity of the CFD simulation. This stage can be a state-of-the-art. Comparing the numerical results against the theory (discussed earlier) or any other available experimental results is the final stage of post-processing. It is extremely important to calculate the correct corresponding numerical variables and compare them against the experimental or other numerical data.**\n",
    "\n",
    "In order to validate the obtained results, the temporal variation of Lift and Drag coefficients is studied. The Drag coefficient ($C_D$) and Lift Coefficient ($C_L$) are defined as:\n",
    "\n",
    "$$ C_D = \\frac{F_D}{0.5*\\rho*V^2*A_{proj}}, $$\n",
    "\n",
    "$$ C_L = \\frac{F_L}{0.5*\\rho*V^2*A_{proj}}, $$\n",
    "\n",
    "where $F_D$ and $F_L$ are Drag and Lift forces respectively. These forces are due to pressure and viscous forces acting on the cylinder. The quantity $0.5*\\rho*V^2$ is the available momentum in the free stream multiplied by the projected area. Hence, these coefficients implies the ratio of corresponding lift and drag forces to available force in the free stream flow field.\n",
    "User can set up Drag and Lift coefficient plots versus iterations before starting the simulation using the path `Solution/Monitors/Create/Lift/Drag`, select the cylinder surface as **zone**. When the simulation starts, $C_D$ and $C_L$ are plotted against number of iterations. These plots are shown below:\n",
    "\n",
    "<img src=\"./Images/LiftDragTimeStep.png\\\" width=\"800\">\n",
    "Figure 3: Temporal evolution of Lift Coefficient (Left) and Drag Coefficient (Right) for flow over a rotating cylinder with Re = 100 and different rotational speed. \n",
    "\n",
    "Consider the case of $\\alpha = 1.0$ both $C_L$ and $C_D$ start with random variations slowly start to oscillate about a mean values after $10$ s. This oscillatory behavior is due to the symmetrical vortex shedding from the cylinder walls into it's wake. These mean values are the mean values of $C_L$ and $C_D$ for this case ($\\alpha = 1.0$). The mean values can also be printed using the path `Reports/Forces/Setup` and specifying the direction vector and select the cylinder wall as **zone** Print. These mean values are noted for each case and plotted against $\\alpha$ as shown in Fig. 4:\n",
    "\n",
    "<img src=\"./Images/ClCdvsAlpha.png\\\" width=\"800\">\n",
    "Figure 4: Variation of mean Lift and Drag coefficients with $\\alpha$ for flow over rotating cylinder with Re = 100.\n",
    "\n",
    "Results in Fig. 4 show that as cylinder rotating rate $\\alpha$ increases, Lift coefficient also increases. The cylinder is rotating counterclockwise. The fluid at the bottom gains velocity and the pressure here reduces compared to pressure at the top of the cylinder. This difference in pressure creates a downward acting lift force on the cylinder. This force increases with increase in $\\alpha$. On the other hand, Drag coefficient decreases with increasing $\\alpha$. Drag force is due to difference in pressure in the streamwise direction. This pressure difference reduces with rotation and mixing. This explains the reduction in $C_D$ with increase in $\\alpha$. \n",
    "\n",
    "Furthermore the streamlies around the cylinder are visualized in Fig. 5. Due to counterclockwise rotation of the cylinder, streamlines stack at the bottom of the cylinder. As  $\\alpha$ increases, the stagnation point moves above the centerline of the cylinder. \n",
    "\n",
    "<img src=\"./Images/streamlines.png\\\" width = \\\"900\\\">\n",
    "Fig. 5: Visualization of streamlines around the rotating cylinder with Re = 100.\n",
    "\n",
    "The vortex shedding has a shedding frequency. A non-dimensional number, Strouhal number (St) is associated with this frequency. Strouhal number is defined as \n",
    "\n",
    "$ St = \\frac{D*\\omega}{U_\\infty} $\n",
    "\n",
    "Where $D$ is the diameter of the cylinder, $\\omega$ is the angular rotational velocity of the cylinder and $U_\\infty$ is the free-stream velocity of the fluid. For this simulation $D =1.0$, $U_\\infty = 1.0$. Strouhal number is the ratio of unsteadiness in the flow to the inertial forces in the flow field. Strouhal number can be calulated by performing FFT on the data- Results> Plots> FFT. The quantity on the Y-axis is Power Spectral Density, on the X-axis is Strouhal number. The data file is loaded and the FFT is plotted. The frequency corresponding to the highest peak gives the Strouhal number. Strouhal number for all the cases are noted and plotted as shown below.\n",
    "\n",
    "<img src=\"./Images/strouhal2.png\\\" width = \\\"900\\\">\n",
    "Figure 6: Plot of Strouhal number against $\\alpha$ for flow over rotating cylinder at Re = 100, compared with experimental results (Kang et. al. Re = 100 and Mittal et. al. Re = 200) for flow over a rotating cylinder.\n",
    "\n",
    "As shown above, the strouhal number remains almost constant for range of $\\alpha$. This in supports the assumption of Badr et al., that Strouhal number is more or less independet of $\\alpha$. The values are compared to experimental values for flow over rotating cylinder (Kang et. al.) The Reynolds number used by Mittal et. al. is 200. It is shown here to show that Strouhal number is independent of $\\alpha$ for different Reynolds number. The numerical values are 3% less than the experimental values for $\\alpha$ upto 1.5. This is an acceptable error. The error is due to many reasons. It is not possible to exactly recreate the laboratory experiment in a software, there will be many factors that differe between the two. The reason for decrease in Strouhal number at $\\alpha = 2.0$ is not determined yet and needs further investigation. \n",
    "\n",
    "At this stage one can conclude that this CFD simulation is validated to study unsteady laminar flow over a rotating cylinder. Therefore, these simulations can be used for similar or more complex problems, such as three dimensional flow over a rotating cylinder/sphere, flow around a bridge pillars, flow around supprting structures of an onshore oil well and many more similar problems. The user has to vary the mesh and flow conditions accordingly. The basic methodology for analysis remains the same. \n",
    "\n",
    "Complete report of the simulation can be found [here](https://www.researchgate.net/publication/288183448_NUMERICAL_INVESTIGATION_OF_UNSTEADY_FLOW_ROUND_A_CIRCULAR_CYLINDER). A couple of YouTube videos are available depicting the vortex shedding and disappearance of vortices at high $\\alpha$ [here](https://www.youtube.com/channel/UCnYGMsr9wYHanrNxKOIEEDQ).\n",
    "\n",
    "References:\n",
    "1. Kang, S., 2006, \"Laminar Flow over a Steadily Rotating Circular Cylinder under the influence of Uniform Shear\", Physics of Fluid, Vol. 18, No. 4, pp.47-106\n",
    "2. Mittal, S., and Kumar, B., 2003, Flow Past a Rotating Cylinder\", Journal of Fluid Mech., Vol.476, pp.303-334.\n",
    "3. Badr, H.M., Dennis, S.C.R., and Young, P.J.S., 1989, \"Steady and Unsteady Flow past a Rotating Circular Cylinder at Low Reynolds Numbers\", Computers and Fluids, VOl.17, No.4, pp.579-609.\n",
    "4. [\"A Physical Introduction to Fluid Mechanics\"](http://www.efluids.com/efluids/books/Smits_text_part1.pdf), Alexander J Smits, 2014.\n",
    "5. Cornell Fluent Learning Modules - [Unsteady Flow Past a Circular Cylinder](https://confluence.cornell.edu/display/SIMULATION/FLUENT+-+Unsteady+Flow+Past+a+Cylinder).\n"
   ]
  },
  {
   "cell_type": "code",
   "execution_count": null,
   "metadata": {
    "collapsed": true
   },
   "outputs": [],
   "source": []
  }
 ],
 "metadata": {
  "kernelspec": {
   "display_name": "Python 3",
   "language": "python",
   "name": "python3"
  },
  "language_info": {
   "codemirror_mode": {
    "name": "ipython",
    "version": 3
   },
   "file_extension": ".py",
   "mimetype": "text/x-python",
   "name": "python",
   "nbconvert_exporter": "python",
   "pygments_lexer": "ipython3",
   "version": "3.5.2"
  }
 },
 "nbformat": 4,
 "nbformat_minor": 0
}
