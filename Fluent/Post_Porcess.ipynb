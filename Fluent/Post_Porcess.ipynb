{
 "cells": [
  {
   "cell_type": "markdown",
   "metadata": {},
   "source": [
    "# CFD Results Post-Process and Validation\n",
    "\n",
    "**The final step for the development of a CFD simulation for a problem of interest is to process and examine the validity of the obtained numerical results (a.k.a post-processing and validation step). These steps require an in-depth engineering knowledge about the fundamentals of the physical problem of interest. Thus, the value of investing time in understanding the fundamental physics of the flow, once again is highlighted here. This process is done starting from general inspection on CFD simulation results and ends with more detail validation process.**\n",
    "\n",
    "This section discusses results for **2D Laminar Flow over a rotating cylinder**. The Reynolds number, based on cylinder diameter, in the presented results is 100. However, the presented general post-processing methodology is applicable to flows with different Reynolds numbers. First check point for numerical solution convergence is to visualize and check the residuals values for key flow field variables (e.g., Continuity, X-momentum, Y-momentum etc). In Fluent by default, once the user starts the simulation, the residuals for the relevant variables is visualized on the solver's console. Users can further manage visualization of additional residual values via <span style=style=\"background-color:lightgrey;\">Solution\\Monitors</span>.\n",
    "\n",
    "<img src=\"./Images/residual.jpg\" width=\"900\">\n",
    "Fig. 1. Residuals of Continuity and Momentum, in x- and y- directions, for simulation of flow over a rotating cylinder with Re =100 and Tip Speed Ratio ($\\alpha$) = 0.\n",
    "\n",
    "Fig. 1 visualizes the residual values for Continuity and Momentum in x- and y- directions versus number of iterations. The Residual of a variable is the difference between the present and previous iteration values. A low value of residual indicates that the obtained numerical solution of the variable is converging to a finite value. Furthermore, the spikes in the residual values shown in Fig. 1 implies the unsteady nature of the CFD simulation and increment within the flow field time span.\n",
    "The decreasing trend in residual values is a necessary, but not sufficient condition for convergence of the obtained numerical solution. As a rule of thumb reaching continuity residual value of $10^-3$ confirms the convergence of numerical solution and running for further iterations would most probably lead to a converged solution. Users can set stopping criteria for different residual values using <span style=style=\"background-color:lightgrey;\">Solution/Monitors/Residual</span>. In the current case study, residual values of $10^-6$ are set for both Continuity and Momentum.\n",
    "\n",
    "Another important variable to obtain monotonically decreasing residual values for unsteady simulation is the choice of the marching time step within the flow field defined time span. The time step has to be estimated correctly and be small enough so that the flow field solution develops slowly and details of the flow field physics are captured correctly, while the computational time and cost requirements are minimized. For this simulation, the time step is set to $0.2$ seconds, which is one-fifth of the time scale based on flow free stream velocity ($1~\\frac{m}{s}$) and diameter of the cylinder ($1~[m]$). Once the simulation starts, the residuals are plotted and checked within each time step as shown in Fig. 1 between each spike. Once the defined criteria are met at each time step, iteration will proceed to the next time step.\n",
    "\n",
    "The second step for post-processing of a CFD-simulation is to visualize the important flow field variables within the CFD domain. This visualization step can be problem specific and should be performed over an adequate plane of choice. For most of the problems, contour of normalized velocity or pressure, over a horizontal or vertical plane at the center of the CFD domain, is a good start point. However, in this problem visualization of the vorticity field would be more beneficial to understand the physics of the flow and perform further investigation on it. In order to perform this post-processing step, before even running the simulation, first the path for storing solution data at each time step should be set, since the solver by default would only save the most recent time step solution. This can be set up via <span style=style=\"background-color:lightgrey;\">Solution/Calculation Activities/Automatic Export/Create/Solution Data Export</span>. `File Type` is changed to be **CFD-Post** (post-processing modulus of Fluent) compatible or other file desired extension formats. Variable of <span style=style=\"background-color:lightgrey;\">Vorticity Magnitude</span> is selected to be stored at each time step.  The stored files are to be opened later inside **CFD-Post** to export vorticity contours and/or animation of flow field temporal evolution. \n",
    "\n",
    "<img src=\"./Images/vortices.png\\\" width = \\\"900\\\">\n",
    "Fig. 2: Visualized vorticity contours for flow over rotating cylinder within the CFD Domain for case studies with different rotational velocities ($\\alpha$) at Re =100. \n",
    "\n",
    "Fig. 2 visualizes the contours of vorticity magnitude within the CFD domain. Flow enters the domain from left to right. Due to the imposed no-slip boundary conditions over the surface of the cylinder, the velocity instantly decreases to zero on the nose of the cylinder and a laminar boundary layer starts to form and grow around the cylinder’s surface. Moving slightly further downstream at the top and bottom edges of the cylinder, where the formed laminar boundary layer is exposed to the free stream velocity, a shear layer will form and result in negatively and positively accelerated flow regions at these two points. These two regions can be thought of as continuous vortices along the cylinder’s surface. In the case study with a stationary cylinder (i.e. $\\alpha = 0$) shown in the top left figure, the body of the cylinder as a blunt body is blocking the incoming flow, a decelerated region of flow would form right at the back of the cylinder, as shown in blue. This area is the place in which the flow recirculates and two counter rotating vortices, as a result of flow moving over the top and bottom curved surfaces of the cylinder, would form here. At low Reynolds numbers (i.e. below Re=100) this region would stay attached to the cylinder. However, in this study case, the Reynolds number is great enough to cause unsteady vortex shedding from the cylinder. This phenomenon is known as the von-Karman effect and it is a well-known physical process. For the case study with a fixed cylinder (i.e. $\\alpha = 0$), it is observed that the vortex shedding has a symmetric pattern. Following animation of the obtained numerical solution visualizes formation and shedding process of vortices from a stationary cylinder ($\\alpha=0$) with Re=100."
   ]
  },
  {
   "cell_type": "code",
   "execution_count": 1,
   "metadata": {
    "collapsed": false
   },
   "outputs": [
    {
     "data": {
      "image/jpeg": "[encoded data removed]",
      "text/html": [
       "\n",
       "        <iframe\n",
       "            width=\"400\"\n",
       "            height=\"300\"\n",
       "            src=\"https://www.youtube.com/embed/SrynvmBNA2E\"\n",
       "            frameborder=\"0\"\n",
       "            allowfullscreen\n",
       "        ></iframe>\n",
       "        "
      ],
      "text/plain": [
       "<IPython.lib.display.YouTubeVideo at 0x7fca881276d0>"
      ]
     },
     "execution_count": 1,
     "metadata": {},
     "output_type": "execute_result"
    }
   ],
   "source": [
    "from IPython.display import YouTubeVideo\n",
    "\n",
    "YouTubeVideo('SrynvmBNA2E')"
   ]
  },
  {
   "cell_type": "markdown",
   "metadata": {},
   "source": [
    "<img src=\"./Images/vortices.png\\\" width = \\\"900\\\">\n",
    "Fig. 3: Animation vorticity contours for flow over stationary cylinder within the CFD Domain for Re =100. \n",
    "\n",
    "Increasing the rotational speed (i.e. $\\alpha$) of the cylinder would increase the strength of vorticity generated on the cylinder surface increases. This is accompanied by an increase in the thickness of the region with closed streamlines around the cylinder. For vortex shedding to occur, vorticity of large enough strength must be carried to the outer flow, outside closed streamlines, via diffusion. This region of vorticity, in the outer flow, must also be a sufficiently large area of slowly moving, preferably recirculating fluid. Under these conditions the vorticity can pile up in a certain region of the flow and vortex shedding can take place. For $\\alpha = 0$, a large region behind the cylinder is associated with slowly moving fluid. The size of this region reduces, rapidly, with increase in rotational speed of the cylinder. This explains the disappearance of vortex shedding for $\\alpha = 2$ as visualized in the animation shown in Fig. 3.\n",
    "\n",
    "**After performing the general post-processing steps, the user need to perform more detail oriented post-processing to confirm the validity of the CFD. This stage can be a state-of-the-art. Comparing the numerical results against the theory (discussed earlier) or any other available experimental results is the final stage of post-processing. It is extremely important to calculate the correct corresponding numerical variables and compare them against the experimental or other numerical data.**\n",
    "\n",
    "As the uniform streamwise flow interacts with the wall of rotating cylinder it will result in a drag force (in the streamwise direction of the flow) and a lift force (in perpendicular direction of the flow) on the body of rotating cylinder. Normalizing the magnitude of these forces and investigate their temporal evolution is another post-processing step to see whether or not the obtained numerical solutions are valid and has converged. Cylinder's drag coefficient ($C_D$) and lift Coefficient ($C_L$) are defined as:\n",
    "\n",
    "$$ C_D = \\frac{F_D}{0.5*\\rho*V^2*A_{proj}}, $$\n",
    "\n",
    "$$ C_L = \\frac{F_L}{0.5*\\rho*V^2*A_{proj}}, $$\n",
    "\n",
    "where $F_D$ and $F_L$ are drag and lift forces respectively. These are net forces due to pressure and viscous forces acting on the body of the cylinder. The quantity $0.5*\\rho*V^2$ is the available momentum in the free stream multiplied by the projected area, which makes it the available force \"acting\" on the cylinder by the free stream. Hence, these coefficients implies the ratio of corresponding net lift and net drag forces to available force in the free stream flow field. User can set up Drag and Lift coefficient history plots versus number of iterations before starting the simulation using the path <span style=style=\"background-color:lightgrey;\">Solution/Monitors/Create/Lift/Drag</span>, select the cylinder surface as **zone**. When the simulation starts, $C_D$ and $C_L$ are plotted against number of iterations. These plots are shown below:\n",
    "\n",
    "<img src=\"./Images/drag_combined.jpg\\\" width=\"800\">\n",
    "<img src=\"./Images/Lift_combined.jpg\\\" width=\"800\">\n",
    "Figure 4: Temporal evolution of Drag coefficient (Top) and Lift coefficient (Bottom) for flow over a rotating cylinder with Re = 100 and different rotational speeds ($\\alpha$). \n",
    "\n",
    "The left plot of Fig. 4 shows the temporal evolution of cylinder's lift ($C_L$) coefficient. In this plot three curves represent three different $\\alpha$s, which is the non-dimensional rotation rate of the cylinder and is defined as $ \\alpha = R\\omega / U_\\infty$. In this formulation $R$ is the radius of the cylinder, $\\omega$ is the rotation rate of the cylinder and $U_\\infty$ is the freestream velocity of the fluid. For the case study with $\\alpha = 0$ the value of $C_L$ is constant and equal to zero. However, after about 130 [s] the value of $C_L$ starts to oscillate. This oscillatory behavior is due to the symmetrical vortex shedding from cylinder walls into it's wake (same as unsteady flow over a stationary cylinder). It is also important to note that this oscillation is about a constant mean value of zero, which confirms that the Magnus force is equal to zero, as expected. The temporal evolution of lift coefficient for higher values of $\\alpha$ is however different. Increasing the rotational speed of the cylinder leads to an initial jump in the value of the lift coefficient and after about 10 [s] it will start to fluctuate around a non-zero constant mean, which represent the magnitude of the magnus force. It is interesting to note that, as discussed in Physics section, higher values of alpha leads to a higher value of Magnus force. The mean values of coefficients can also be printed using the path <span style=style=\"background-color:lightgrey;\">Reports/Forces/Setup</span> and specifying the direction vector and select the cylinder wall as **zone** Print. These mean values are noted for each case and plotted against $\\alpha$ as shown in Fig. 5:\n",
    "\n",
    "<img src=\"./Images/ClCdvsAlpha.png\\\" width=\"800\">\n",
    "Figure 5: Variation of mean lift and drag coefficients with $\\alpha$ for flow over rotating cylinder with Re = 100.\n",
    "\n",
    "Results in Fig. 5 show that as cylinder rotating rate $\\alpha$ increases, lift coefficient also increases. The cylinder is rotating counterclockwise. The fluid at the bottom gains velocity and the pressure here reduces compared to pressure at the top of the cylinder. This pressure gradient gives rise to a downward (negative) lift on the cylinder. This is called the Magnus Effect produced by rotation of the cylinder. This force increases with increase in $\\alpha$. On the other hand, drag coefficient decreases with increasing $\\alpha$. Drag force is due to difference in pressure in the streamwise direction. This pressure difference reduces with rotation and mixing. This explains the reduction in $C_D$ with increase in $\\alpha$. \n",
    "\n",
    "The above behavior of Lift coefficient can also be visualized with the help of streamlines around the cylinder. Fig. 6 visualizes the flow field streamlines around the cylinder for different cylinder rotational speed $\\alpha$. As discussed earlier in the Physics section, due to counter-clockwise rotation of the cylinder, the streamlines stack at the bottom of the cylinder. This region denotes the high velocity-low pressure region. Figure 6 also shows the stagnation point in the flow for different cylinder rotational speed $\\alpha$. As the value of $\\alpha$ increases, the stagnation point moves above the cylinder's centerline. For $\\alpha$ value of 1.5 two stagnation points can be spotted; one at the centerline in the front of the cylinder and another in the wake of the cylinder. This is due to the high rotational speed of the cylinder and formation of recirculation zone (flow separation). At α=2, the stagnation point shifts up again. Note that there is no stagnation point in the wake of the cylinder as there is no recirculation zone and no vortices are present. \n",
    "\n",
    "<img src=\"./Images/streamlines.png\\\" width = \\\"900\\\">\n",
    "Fig. 6: Visualization of streamlines around the rotating cylinder with Re = 100.\n",
    "\n",
    "The vortex shedding from the surface of rotating cylinder is an unsteady process with a measurable frequency. A non-dimensional version of this frequency is defined as Strouhal number (St). Strouhal number defines the ratio of vortex shedding frequency of the cylinder to the incoming free stream velocity of the flow: \n",
    "\n",
    "$$ St = \\frac{D*f}{V_0}, $$\n",
    "\n",
    "where $D$ is the diameter of the cylinder, $f$ is the vortex shedding frequency and $U_\\infty$ is the free-stream velocity of the fluid. For this simulation $D =1.0$, $U_\\infty = 1.0$. Strouhal number is the ratio of unsteadiness in the flow to the inertial forces in the flow field. Strouhal number can be calculated by performing FFT on the data <span style=style=\"background-color:lightgrey;\">Results/Plots/FFT</span>. The quantity on the **Y-axis** is Power Spectral Density, on the **X-axis** is Strouhal number. The data file is loaded and the FFT is plotted. The frequency corresponding to the highest peak gives the Strouhal number. Strouhal number for all the cases are noted and plotted as shown below.\n",
    "\n",
    "<img src=\"./Images/strouhal2.png\\\" width = \\\"900\\\">\n",
    "Figure 7: Plot of Strouhal number against $\\alpha$ for flow over rotating cylinder at Re = 100, compared with experimental results (Kang et. al. Re = 100 and Mittal et. al. Re = 200) for flow over a rotating cylinder.\n",
    "\n",
    "As shown above, the Strouhal number remains almost constant for range of $\\alpha$. This supports the assumption of Badr et al., that Strouhal number is more or less independent of $\\alpha$. The values of present study (blue line with diamond symbols) are compared to corresponding experimental values for flow over rotating cylinder (Kang et. al.) (red line with square symbols). For Re = 100, the numerical values are 3% less than the experimental values for $\\alpha$ up to 1.5. This is an acceptable error. The error is due to many reasons. It is not possible to exactly recreate the laboratory experiment on a software, there will be many factors that differ between the two. There is no experimental data available for $\\alpha = 2.0$. The Reynolds number used by Mittal et. al. is 200. It is shown here to show that Strouhal number is independent of $\\alpha$ but a function of Reynolds number. At $\\alpha = 2.0$, the vortex shedding seems to be disappeared. This is a critical case. What might actually be happening is that the dominant mode of the shedding frequency is zero but the value of other modes of frequency might be reduced and this leads to decrease in Strouhal number at $\\alpha = 2.0$. Capturing these other modes is out of scope of the present study. We hypothesize that reducing the time step or using other simulation models like LES or DNS might help understand this behavior.\n",
    "\n",
    "At this stage one can conclude that this CFD simulation is validated to study unsteady laminar flow over a rotating cylinder. Therefore, these simulations can be used for similar or more complex problems, such as three-dimensional flow over a rotating cylinder/sphere, flow around a bridge pillars, flow around supporting structures of an onshore oil well and many more similar problems. The user has to vary the mesh and flow conditions accordingly. The basic methodology for analysis remains the same. \n",
    "\n",
    "\n",
    "References:\n",
    "1. Akshay Basavaraj Bagi [NUMERICAL INVESTIGATION OF UNSTEADY FLOW AROUND A CIRCULAR CYLINDER.](https://www.researchgate.net/publication/288183448_NUMERICAL_INVESTIGATION_OF_UNSTEADY_FLOW_ROUND_A_CIRCULAR_CYLINDER)\n",
    "2. Kang, S., 2006, \"Laminar Flow over a Steadily Rotating Circular Cylinder under the influence of Uniform Shear\", Physics of Fluid, Vol. 18, No. 4, pp.47-106\n",
    "3. Mittal, S., and Kumar, B., 2003, Flow Past a Rotating Cylinder\", Journal of Fluid Mech., Vol.476, pp.303-334.\n",
    "4. Badr, H.M., Dennis, S.C.R., and Young, P.J.S., 1989, \"Steady and Unsteady Flow past a Rotating Circular Cylinder at Low Reynolds Numbers\", Computers and Fluids, VOl.17, No.4, pp.579-609.\n",
    "5. [\"A Physical Introduction to Fluid Mechanics\"](http://www.efluids.com/efluids/books/Smits_text_part1.pdf), Alexander J Smits, 2014."
   ]
  },
  {
   "cell_type": "code",
   "execution_count": null,
   "metadata": {
    "collapsed": true
   },
   "outputs": [],
   "source": []
  },
  {
   "cell_type": "code",
   "execution_count": null,
   "metadata": {
    "collapsed": true
   },
   "outputs": [],
   "source": []
  }
 ],
 "metadata": {
  "kernelspec": {
   "display_name": "Python 3",
   "language": "python",
   "name": "python3"
  },
  "language_info": {
   "codemirror_mode": {
    "name": "ipython",
    "version": 3
   },
   "file_extension": ".py",
   "mimetype": "text/x-python",
   "name": "python",
   "nbconvert_exporter": "python",
   "pygments_lexer": "ipython3",
   "version": "3.3.5"
  }
 },
 "nbformat": 4,
 "nbformat_minor": 0
}
