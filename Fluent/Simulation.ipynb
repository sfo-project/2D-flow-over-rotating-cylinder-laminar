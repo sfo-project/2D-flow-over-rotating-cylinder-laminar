{
 "cells": [
  {
   "cell_type": "markdown",
   "metadata": {},
   "source": [
    "# CFD Simulation Case Setup\n",
    "\n",
    "**The created CFD domain is now read into the CFD package of interest to setup the CFD simulation. It should be noted that the current tutorial has a significant difference compared to other available CFD tutorials online! This tutorial is structured and developed based on a generic and methodological approach to set up a CFD simulation. The first principals and reasonings for each setting is discussed at each step. Potential alterations and modifications to perform similar analysis for different flow conditions are also addressed and discussed. Hence, in the end user will have the capability of applying potential modifications, improvements or extending the application of the current CFD simulation to a more complex problem of interest, rather than having a one time successful run of a specific simulation with specific and strictly pre-defined boundary conditions.**\n",
    "\n",
    "In simple words: Current tutorial teaches users to fish, rather than giving them a fish.\n",
    "\n",
    "**Setting up a CFD simulation has following four steps:**\n",
    "\n",
    "**1. Setup Model/s:**\n",
    "According to the physics of the flow field user will select required model/s to simulate the flow.\n",
    "\n",
    "**2. Setup Working Fluid/s & Solid/s:**\n",
    "User will define the physical and thermodynamical properties of the working fluid/s and solid/s in the problem.\n",
    "\n",
    "**3. Setup Boundary & Zone Conditions:**\n",
    "Solving the governing equations of the flow (i.e. system of partial differential equations) requires well-defined boundary conditions within the CFD domain. These conditions are selected and defined in this step.\n",
    "\n",
    "**4. Setup Solution Methods:**\n",
    "In CFD simulations the governing equations of the flow are solve numerically. Based on the physics of the problem appropriate numerical schemes and solution methods are selected at this step.\n",
    "In the following section the details for the above four steps for the CFD simulation setup for **2D Laminar Flow Over rotating Cylinder** are explained in great details. It should be noted that the path for defining conditions and other settings are provided in command line format. Users can access exact same settings and options by following the provided path via the tree of progress or pull down menu in ANSYS FLUENT. The summary of the steps to take for CFD simulation setup for problem of 2D laminar flow over a flat plate are as follows:\n",
    "\n",
    "01./define/models/transient\n",
    "\n",
    "02./define/models/solver/pressure-based\n",
    "\n",
    "03./define/models/viscous/laminar\n",
    "\n",
    "04./define/material/change-create\n",
    "\n",
    "05./define/boundary-conditions/fluid\n",
    "\n",
    "06./define/boundary-conditions/velocity-inlet\n",
    "\n",
    "07./define/boundary-conditions/pressure-outlet\n",
    "\n",
    "08./define/boundary-conditions/wall/moving-wall/rotational (specify rad/s and direction)\n",
    "\n",
    "09./solve/set/discretization-scheme\n",
    "\n",
    "10./solve/set/under-relaxation\n",
    "\n",
    "11./solve/initialize/compute-defaults/velocity-inlet\n",
    "\n",
    "12./solve/iterate\n",
    "\n",
    "Following is the step-by-step explanation for each of the above command/setting procedure:\n",
    "\n",
    "**1. Setup Model/s:**\n",
    "\n",
    "In this problem for flow over a cylinder, the free stream flow is uniform. We are considering a flow field which has surpassed the critical Reynolds number, causing the inertial forces of the flow to dominate over the viscous forces. This leads to separation of the flow from the surface of the cylinder and alternative vortex shedding. These factors contribute to making the flow field unsteady, or transient. Therefore, the transient model is chosen to develop the CFD simulation: /define/models/solver/transient. The critical Reynolds number for flows over cylinder to transition from steady state to unsteady state is about 50. In cases that the Reynolds number, based on cylinder diameter, is less than the critical value of 50 the model will still be viscous, however the steady model should be selected at this step.\n",
    "\n",
    "n this problem we are considering a flow that is in a subsonic regime. This allows the variation of density with respect to pressure to be neglected. As a result of this assumption one can define the working fluid to be incompressible: define/models/solver/pressure-based. In cases that the speed of the flow enters sonic and supersonic regimes ( Mach # > 0.3), the changes in density (i.e. compressibility) of the flow will be an important factor and the solver must be defined as density-based.\n",
    "\n",
    "In the current problem the focus is to investigate laminar flow and boundary layer behavior when a uniform flow passes over a cylinder. Therefore, the flow regime is laminar and the appropriate model for that is selected via :/define/models/viscous/laminar. The critical Reynolds number for flow over cylinder to make the transition from laminar to turbulent regime is about 3.0E+5. In cases that the Reynolds number, based on cylinder diameter, is greater than the critical value of 3.0E+5 the model will still be viscous, however the appropriate turbulent model should be selected at this step.\n",
    "\n",
    "**2. Setup Working Fluid/s & Solid/s:**\n",
    "The choice of working fluid is problem dependent. In the absence of obligations to define a specific working fluid such as air or water, it is suggested that the users define the working fluid such that the important non-dimensional groups of interest, such as Reynolds number in this problem, match the desired flow conditions. This strategy removes the uncertainty in the choice of the working fluid and will solidify the basis for expected physical observations. For this problem using /define/material/change-create/ command, user can define a new material named Reynolds_50 and set the density of it to be 50 [kg/m^3] and viscosity to be 1 [kg/m.s]. Based on the 1 [m] diameter of the cylinder the Reynolds number for this flow field will be equal to 50. In most of the CFD packages, air is defined is the default working fluid. Hence, users should modify the working fluid via this menu using the pre-defined materials or defining a new material with unique physical and thermodynamical properties.\n",
    "\n",
    "**3. Setup Boundary and Zone Conditions:**\n",
    "In this problem the entire CFD domain is filled with the defined working fluid. This working fluid is selected from the defined material/s in the previous step: /define/boundary-conditions/fluid. For this problem users only need to assign the newly defined working fluid, the rest of the options remained unchanged.\n",
    "\n",
    "The flow enters from the inlet face of the CFD domain with constant velocity of 1 [m/s] in x-direction. User sets the velocity-inlet condition to the face named inlet by defining the direction and magnitude of the velocity: /define/boundary-conditions/velocity-inlet. In cases where the incoming velocity into the CFD domain is not uniform, one can define the incoming velocity with the pre-defined directions or generate a User Define Function (UDF) to describe the velocity profile of interest.\n",
    "\n",
    "In this problem the flow can exit the CFD domain from the outlet face and it's pressure will be equal to atmospheric pressure. User sets the pressure-outlet condition to these faces: /define/boundary-conditions/pressure-outlet. This simulates the physics of the problem of flow over a cylinder. Thus, it is assumed that gauge pressure at this boundary is equal to 0. If in the problem of interest there exists a specific pressure difference between the inlet and outlet or other surfaces, that magnitude can be defined in corresponding faces of the domain.\n",
    "\n",
    "The flow interacts with the cylinder located in the center of the CFD domain based on the no-slip boundary condition. User assign the no-slip boundary condition to the bottom of the CFD domain named flat plate via /define/boundary-conditions/wall command. If the shear forces and formed boundary layer becomes turbulent in this region user should either provide required mesh resolution to capture the phenomena or set this boundary to free slip condition such that fluid elements would not interact with wall region. For low Reynolds number flow, similar to the current problem of interest, a reasonable mesh resolution is sufficient to capture the laminar boundary layer region.If the shear forces and formed boundary layer becomes turbulent in this region user should either provide required mesh resolution to capture the phenomena or set this boundary to free slip condition such that fluid elements would not interact with wall region. For low Reynolds number flow, similar to the current problem of interest, a reasonable mesh resolution is sufficient to capture the laminar boundary layer region. User also assigns the boundary of the wall as a moving boundary - Rotational. User specifies the rate of rotation and the axis of rotation. /define/boundary-conditions/wall/moving-wall/rotational\n",
    "\n",
    "**4. Setup Solution methods:**\n",
    "In this step, it is highly recommended to use the default options and settings, unless based on physics of the problem the user is aware of any specific choices. Upon non-smooth convergence and potential divergence of the CFD simulation user can modify and examine various solution methods. To modify the solution methods and controls use the following commands respectively:\n",
    "\n",
    "solve/set/discretization-schem\n",
    "\n",
    "solve/set/under-relaxation\n",
    "\n",
    "Now all boundary conditions and settings for the CFD simulation are defined. User can **initialize** the solution through an educated guess to start the iteration process: /solve/initialize/compute-defaults/velocity-inlet Solution initialization would incept the flow field variables, such as velocity and pressure, based on the defined values by user. For the current problem the CFD domain is recommended to be initialized using values of velocity and pressure at the pipe's inlet.\n",
    "\n",
    "For the unsteady case input is required for the time step size and number of time steps. Other settings may be left to default. The alternating vortices in transient flow require a time step that is low enough to account for the rapid changes. Users can go through a trial and error process to find which time step size is appropriate for their particular problem. A helpful way to analyze this process is to visualize it by using animation playback sequence. Before running the calculation, user creates a solution animation sequence via: solve/calculation-activities/solution-animations. The animations can then be played back during post processing. If the time step is too large the solution will skip over parts of the simulation, which can be seen in the animation by a non-smooth transition between frames. If the time step is too small the solution will have more data than is necessary for parts of the simulation, which takes up time to compute, and is shown in the animation by the frames changing by very little. For this problem, a time step size of 0.01 [s] is sufficient: solve/run-calculation/time-step-size. The number of time steps for this case should be at least 1000: solve/run-calculation/number-of-time-steps to allow for convergence to occur. As the rational speed increases, it is advised to increase the number of time steps as it takes more time to reach a steady like solution. Also to observe the disappearance of the vortices it takes more time. Suggested value is at least 5000 steps. Also chose the number of iterations per time step wisely. Provide enough time for the residuals to reach a very low value. User needs to setup automatic export of the Vorticity magnitude values at each time step to generate an animation of vortex shedding. This can be done using in the Calculation Activities -> Automatic Export - Create -> Quantity - Vorticity Magnitude.\n",
    "\n",
    "Iteration process for solving the flow field governing equation now shall start till converged solution is obtained:solve/iterate. A general rule of thumb for converged solution is to have continuity residuals of 10E-6. More details about commenting on validity of solution and convergence criteria will be discussed in next section."
   ]
  },
  {
   "cell_type": "code",
   "execution_count": null,
   "metadata": {
    "collapsed": true
   },
   "outputs": [],
   "source": []
  },
  {
   "cell_type": "code",
   "execution_count": null,
   "metadata": {
    "collapsed": true
   },
   "outputs": [],
   "source": []
  }
 ],
 "metadata": {
  "kernelspec": {
   "display_name": "Python 3",
   "language": "python",
   "name": "python3"
  },
  "language_info": {
   "codemirror_mode": {
    "name": "ipython",
    "version": 3
   },
   "file_extension": ".py",
   "mimetype": "text/x-python",
   "name": "python",
   "nbconvert_exporter": "python",
   "pygments_lexer": "ipython3",
   "version": "3.3.5"
  }
 },
 "nbformat": 4,
 "nbformat_minor": 0
}
