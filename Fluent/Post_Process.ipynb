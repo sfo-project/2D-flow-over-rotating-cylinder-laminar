{
 "cells": [
  {
   "cell_type": "markdown",
   "metadata": {},
   "source": [
    "# CFD Results Post-Process & Validation\n",
    "\n",
    "**The final step for the development of a CFD simulation for a problem of interest is to process and examine the validity of the obtained numerical results (a.k.a post-processing and validation step). These steps requires an in-depth engineering knowledge about the fundamentals of the physical problem of interest. Thus, the value of investing time in understanding the fundamental physics of the flow, once again is highlighted here. This process is done starting from general inspection on CFD simulation results and ends with more detail validation process.**\n",
    "\n",
    "This section discusses the results of the simulation for 2D Laminar Flow Over a Rotating Cylinder. The Reynolds number for the presented case study in this section is 100. However, it should be noted that for other case studies, with different Reynolds number, the general post-processing methodology presented in this section can be used to investigate the physics of the flow field. The first check point in any CFD Simulation is to observe the convergence of residuals of different flow field variables. The choice of these variables is problem specific, but tow of the most important ones are 'Continuity' and 'Velocity'. Residuals of each variable are differences in the value of a quantity between two iterations. A low value of residual indicates that the numerical solution of that variable converged to a finite value. It means that further iterations will have no significant effect on the solution and the iteration can be stopped. In this simulation residual for Continuity, U_x and U_y have reached order of magnitude of about 1e-6, which indicates the convergence of the simulations.\n",
    "\n",
    "<img src=\"./Images/residuals.png\" width = \"600\">\n",
    "Fig. 1.\n",
    "\n",
    "The second step for post processing is to visualize the important flow field variables within the CFD domain. This visualization step can be problem specific and should be performed over an adequate plane of choice. For most of the problems contour of normalized velocity or pressure, over a horizontal or vertical plane at the center of the CFD domain, is a good start point. However, in this problem visualization of the vorticity field would be more beneficial to understand the physics of the flow and perform further investigation on it. The path to define an adequate visualization probe such as planes or lines is <span style=style=\"background-color:lightgrey;\">surface/plane-bounded</span>. With this path a user can define various type of surface probes to visualize the obtained numerical results over them. However, for the current problem since the entire domain is two dimensional and planar, it would make the entire domain the best candidate for the post-processing plane. User should now choose the variable of interest that needs to be visualized. The variable of interest here is the vorticity magnitude. It order to visualize the defined normalized flow field variable in the previous step users should use <span style=style=\"background-color:lightgrey;\">display/contour/vorticity-mag</span> and set the range of [-0.3,0.3] to visualize the vorticity contours and it's legend as shown in Fig. 2.\n",
    "\n",
    "<img src=\"./Images/vortices.png\" width = \"600\">\n",
    "Fig. 2. Visualized vorticity field within the CFD domain for case studies with different rotational velocities (i.e. $\\alpha$).\n",
    "\n",
    "Fig. 2 visualizes the contours of vorticity magnitude within the CFD domain. Flow enters the domain from left to right. Due to the imposed no-slip boundary conditions over the surface of the cylinder, the velocity instantly decreases to zero on the nose of the cylinder and a laminar boundary layer starts to form and grow around the cylinder’s surface. Moving slightly further downstream at the top and bottom edges of the cylinder, where the formed laminar boundary layer is exposed to the free stream velocity, a shear layer will form and result in negatively and positively accelerated flow regions at these two points. These two regions can be thought of as continuous vortices along the cylinder’s surface. In the case study with a stationary cylinder (i.e. $\\alpha = 0$) the body of the cylinder, as a blunt body, is blocking the incoming flow, a decelerated region of flow would form right at the back of the cylinder, as shown in blue. This area is the place in which the flow recirculates and two counter rotating vortices, as a result of flow moving over the top and bottom curved surfaces of the cylinder, would form here. At low Reynolds numbers (i.e. below Re=100) this region would stay attached to the cylinder. However, in this study case the Reynolds number is great enough to cause unsteady vortex shedding from the cylinder. This phenomena is known as the von Karman effect and it is a well-known physical process. For the case study with a fixed cylinder (i.e. $\\alpha = 0$) it is observed that the vortex shedding has a symmetric pattern. \n",
    "\n",
    "Increasing the rotational speed (i.e. $\\alpha$) of the cylinder would increase the strength of vorticity generated on the cylinder surface increases. This is accompanied by an increase in the thickness of the region with closed streamlines around the cylinder. For vortex shedding to occur, vorticity of large enough strength must be carried to the outer flow, outside closed streamlines, via diffusion. This region of vorticity, in the outer flow, must also be a sufficiently large area of slowly moving, preferably recirculating fluid. Under these conditions the vorticity can pile up in a certain region of the flow and vortex shedding can take place. For $\\alpha = 0$, a large region behind the cylinder is associated with slowly moving fluid. The size of this region reduces, rapidly, with increase in rotational speed of the cylinder. This explains the disappearance of vortex shedding for $\\alpha = 2$ as visualized in the animation shown in Fig. 3."
   ]
  },
  {
   "cell_type": "code",
   "execution_count": 6,
   "metadata": {
    "collapsed": false
   },
   "outputs": [
    {
     "data": {
      "image/jpeg": "[encoded data removed]",
      "text/html": [
       "\n",
       "        <iframe\n",
       "            width=\"400\"\n",
       "            height=\"300\"\n",
       "            src=\"https://www.youtube.com/embed/SrynvmBNA2E\"\n",
       "            frameborder=\"0\"\n",
       "            allowfullscreen\n",
       "        ></iframe>\n",
       "        "
      ],
      "text/plain": [
       "<IPython.lib.display.YouTubeVideo at 0x103d71080>"
      ]
     },
     "execution_count": 6,
     "metadata": {},
     "output_type": "execute_result"
    }
   ],
   "source": [
    "from IPython.display import YouTubeVideo\n",
    "\n",
    "YouTubeVideo('SrynvmBNA2E')"
   ]
  },
  {
   "cell_type": "markdown",
   "metadata": {},
   "source": [
    "Fig. 3. Visualized vorticity field within the CFD domain for case studies with rotational velocities of 2 (i.e. $\\alpha = 2$). See the vanishing process of vortex shedding in the wake of the rotating cylinder.\n",
    "\n",
    "As discussed earlier in the Physics section, as the uniform streamwise flow interacts with the wall of rotating cylinder it will result into a drag force (in the streamwise direction of the flow) and a lift force (in perpendicular direction of the flow) on the body of rotating cylinder. Normalizing the magnitude of these forces and investigate their temporal evolution is another post-processing step to see whether or not the obtained numerical solutions are valid and has converged. Fig. 4 shows the temporal evolution of Lift ($C_L$) coefficient. In Fig. 1 three curves represent three alphas ($\\alpha$), which is the non-dimensional rotation rate of the cylinder and is defined as $ \\alpha = R\\omega / U_\\infty$. In this formulation $R$ is the radius of the cylinder, $\\omega$ is the rotation rate of the cylinder and $U_\\infty$ is the freestream velocity of the fluid. For the case study with $\\alpha = 0$ the value of $C_L$ is constant and equal to zero. However, after about 130 [s] the value of $C_L$ starts to oscillate. Our hypothesis is that this oscillatory behavior is due to the symmetrical vortex shedding from cylinder walls into it's wake (same as unsteady flow over a stationary cylinder). It is also important to note that this oscillation is about a constant mean value of zero, which confirms that the magnus force is equal to zero, as expected. The temporal evolution of lift coefficient for higher values of $\\alpha$ is however different. Increasing the rotational speed of the cylinder leads to an initial jump in the value of the lift coefficient and after about 10 [s] it will start to fluctuate around a non-zero constant mean, which represent the magnitude of the magnus force. It is interesting to note that, as discussed in Physics section, higher values of alpha leads to a higher value of magnus force.\n",
    "\n",
    "<img src=\"./Images/Lift_plot_combined.jpg\" width=\"900\">\n",
    "Fig. 4. Temporal variation of $C_L$ for flow over a rotating cylinder with three different rotational speed.\n",
    "\n",
    "Once the oscillatory behavior of the flow field as a function of time reaches a steady manner users should quantify the flow field variables by looking at the mean value of each variable and neglecting their redundant fluctuations. The mean values of lift $C_L$ and drag $C_D$ force coefficients are calculated and presented in Fig. 2 as a function of rotational speed of the cylinder. As shown in Fig. 2 with the increases in the rotational speed of the cylinder $\\alpha$, the value of drag coefficient decreases. This is mainly due to the reduction of pressure gradient across the cylinder due to rotation and strong mixing phenomena in the local flow. On the other side of the spectrum as the cylinder rotational rate $\\alpha$ increases, the value of lift coefficient $C_L$ magnitude increases in negative direction. \n",
    "\n",
    "<img src=\"./Images/ClCdvsAlpha.png\" width=\"900\">\n",
    "Fig. 2. Variation of mean $C_D$ and $C_L$ as a function of $\\alpha$. \n",
    "\n",
    "As discussed earlier in the Physics section due to counter-clockwise rotation of the cylinder, the streamlines stack at the bottom of the cylinder creates a low pressure region there, while the pressure at the top of the cylinder is high. Fig. 3 visualizes the flow field streamlines around the cylinder for different cylinder rotational speed $\\alpha$ to visualize these two regions. As the value of $\\alpha$ increases the stagnation point moves above the cylinder's centerline. For $\\alpha$ value of 1.5 two stagnation points can be spotted; one at the centerline in the front of the cylinder and another in the wake of the cylinder. This is due to the high rotational speed of the cylinder and formation of recirculation zone (flow separation). At α=2, the stagnation point shifts up again. Note that there is no stagnation point in the wake of the cylinder as there is no recirculation zone and no vortices are presenRemovet.\n",
    "\n",
    "This pressure gradient gives rise to a downward (negative) lift on the cylinder. This was called the magnus effect produced by rotation of the cylinder.\n",
    "\n",
    "\n",
    "<img src=\"./Images/streamlines.png\" width = \"600\">\n",
    "Fig. 3. Streamlines for different $\\alpha$.\n",
    "\n",
    "Unsteady flow over cylinder gives rise to alternating vortex shedding behind the cylinder. This vortex shedding has a shedding frequency. A non dimensionl number, Strouhal number (St) is associated with this frequency. Strouhal number is defined as $St = D\\omega/U_\\infty$, where D is the diameter of the cylinder. When $D = 1$ and $U_\\infty =1$, St is simply $\\omega$ as in this case. Strouhal number is atio of the unsteadiness in the flow to inertial forces in the flow field. Calculate the value of St for different vlaues of $\\alpha$ and compare with other experimental and numerical results. Here the values are compared with the results of Kang et al (2006)[3] & Mittal and Kumar (2003)[4] (shown to compare the trend of St with α). The results seem to be in good agreement with each other with an difference of 6.25%. The CFD results do not exactly match the experimental values. THe experimental and CFD setups do not match exactly. It is also not possible to exactly recreate the experimental environment in the software. This leads to the variation in the results. The expected trend for Strouhal number is that it remains almost constant for the given range of $\\alpha$. For $\\alpha = 2$, the CFD value is decreased. The reason for this is not determined yet. \n",
    "\n",
    "<img src=\"./Images/strouhal2.png\" width = \"600\">\n",
    "Fig. 3. Variation of St with $\\alpha$.\n",
    "\n",
    "User can also visualize the vortex shedding behind the cylinder using the case and date files exported at each time step. These files are loaded into CFD Post and an animation can be created to visualize the vortices. More details can be found [here](https://confluence.cornell.edu/display/SIMULATION/Unsteady+Flow+Past+a+Cylinder+-+Numerical+Results). A YouTube video has been created [here](https://www.youtube.com/watch?v=SrynvmBNA2E). \n",
    "\n",
    "\n",
    "\n",
    "**Conclusion:**\n",
    "As the rotational speed of the cylinder increases, the drag force on the cylinder decreases. The pressure drag decreases with increase in skin friction drag, resulting in a net decrease in the total drag force. The lift force shows a reverse trend. The rotation of the cylinder in anticlockwise direction stacks the streamlines at the bottom of the cylinder giving rise to a low pressure region. Pressure at the top of the cylinder is high. This pressure difference gives rise to a negative lift (in the negative y-direction). This is called the Magnus Effect. As the rotational speed of the cylinder increases, the lift force increases. The rotation of the cylinder has very little effect on the Strouhal number. As the rotational speed of the cylinder increases, the Strouhal number remains almost same. This trend has been confirmed with\n",
    "experimental and other simulation results.\n",
    "\n",
    "The present work has significant implications for the flow control strategies that utilize rotating cylinder elements.\n",
    "It would be undesirable to use α < 2 because the flow is unstable.\n",
    "\n",
    "**References**\n",
    "\n",
    "[1]. \"A physical introduction to fluid mechanics\", Alexander J. Smits, John Wiley, 2000. Download the book [here](http://www.efluids.com/efluids/books/Smits_text_part1.pdf)\n",
    "\n",
    "[2]. Jeongyoung Park, Kiyoung Kwon, Haecheon Choi., 1998. “Numerical Solutions of Flow Past a Circular Cylinder at Reynolds Numbers up to 160”, KSME International Journal, Vol. 12, No. 6, pp. 1200~1205, 1998.\n",
    "\n",
    "[3]. Kang, S., 2006, “Laminar Flow over a Steadily Rotating Circular Cylinder under the Influence of Uniform Shear”, Physics of Fluid, Vol. 18, No. 4, pp. 47-106.\n",
    "\n",
    "[4]. Mittal, S. and Kumar, B., 2003, “Flow Past a Rotating Cylinder”, Journal of Fluid Mech., Vol. 476, pp. 303-334.\n",
    "\n",
    "[5]. [Cornell Fluent Learning Modules](https://confluence.cornell.edu/display/SIMULATION/Unsteady+Flow+Past+a+Cylinder+-+Numerical+Results)\n",
    "\n",
    "For more details, read this [report](https://www.researchgate.net/publication/288183448_NUMERICAL_INVESTIGATION_OF_UNSTEADY_FLOW_ROUND_A_CIRCULAR_CYLINDER)"
   ]
  },
  {
   "cell_type": "code",
   "execution_count": 8,
   "metadata": {
    "collapsed": false,
    "scrolled": true
   },
   "outputs": [
    {
     "data": {
      "text/html": [
       "\n",
       "        <iframe\n",
       "            width=\"400\"\n",
       "            height=\"300\"\n",
       "            src=\"https://www.youtube.com/embed/https://www.youtube.com/watch?v=4xkWvW4w4kg\"\n",
       "            frameborder=\"0\"\n",
       "            allowfullscreen\n",
       "        ></iframe>\n",
       "        "
      ],
      "text/plain": [
       "<IPython.lib.display.YouTubeVideo at 0x103fbae80>"
      ]
     },
     "execution_count": 8,
     "metadata": {},
     "output_type": "execute_result"
    }
   ],
   "source": [
    "from IPython.display import YouTubeVideo\n",
    "YouTubeVideo('https://www.youtube.com/watch?v=4xkWvW4w4kg')"
   ]
  },
  {
   "cell_type": "code",
   "execution_count": null,
   "metadata": {
    "collapsed": true
   },
   "outputs": [],
   "source": []
  }
 ],
 "metadata": {
  "kernelspec": {
   "display_name": "Python 3",
   "language": "python",
   "name": "python3"
  },
  "language_info": {
   "codemirror_mode": {
    "name": "ipython",
    "version": 3
   },
   "file_extension": ".py",
   "mimetype": "text/x-python",
   "name": "python",
   "nbconvert_exporter": "python",
   "pygments_lexer": "ipython3",
   "version": "3.5.2"
  }
 },
 "nbformat": 4,
 "nbformat_minor": 0
}
