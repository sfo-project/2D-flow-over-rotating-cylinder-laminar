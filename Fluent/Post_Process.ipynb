{
 "cells": [
  {
   "cell_type": "markdown",
   "metadata": {},
   "source": [
    "# CFD Results Post-Process & Validation\n",
    "\n",
    "**The final step for the development of a CFD simulation for a problem of interest is to process and examine the validity of the obtained numerical results (a.k.a post-processing and validation step). These steps requires an in-depth engineering knowledge about the fundamentals of the physical problem of interest. Thus, the value of investing time in understanding the fundamental physics of the flow, once again is highlighted here. This process is done starting from general inspection on CFD simulation results and ends with more detail validation process.**\n",
    "\n",
    "#### 1- Start with visualization of the residuals for most important variables within the flow field (e.g. continuity, streamwise velocity and etc.). Discuss how user should examine the residuals trends to comment on accuracy and convergence of the flow field's simulation. \n",
    "\n",
    "This section discusses the results of the simulation for ** 2D Flow Over Rotating Cylinder**. The Reynoldsnumber is 100. The first check point in any CFD Simulation is to check the convergence of residuals of the variables. The variables can be 'Continuity', 'Momentum' etc. Residuals are differences in the value of a quantity between two iterations. A low value of residual indicates that the solution is converging. It means that futher iterations will have very small effect on the solution and the solution iteration can be stopped. Another way of knowing whether tyhe solution has converged is to look at the values of Lift coefficient (Cl) and Drag coefficient (Cd) at each timestep. The Cl must attain a constant value or oscillate about a mean value. Same goes for Cd. The plot for Cl is shown below.\n",
    "\n",
    "<img src=\"./Images/Lift_plot_combined.jpg\" width=\"900\">\n",
    "Fig. 1. Variation of Cl with Flow Time(time step).\n",
    "\n",
    "In this plot alpha ($\\alpha$) is the non-dimensional rotation rate of the cylinder and is defined as $ \\alpha = R\\omega/U_\\infty$, where R is the radius of the cylinder, $\\omega$ is the rotation rate of the cylinder and $U_\\infty$ is the freestream velocity of the fluid. Figure 1 is the plot of Cl with respect to flow time (timesteps) for different $\\alpha$. It is clear that after some time, the value of Cl starts to either oscillate about a mean value or attain a constant value. This is a que to stop the iteration and know that the solution has attained a steady like solution. For $\\alpha$ = 0, it seems like the solution starts with a constant value. Don not confuse this as a steady state. There are oscillations of Cl in this range but due to the scale of the plot, they are not visible. \n",
    "\n",
    "Once the solution has attained a steady like solution, next step is to look at the results. Start with mean values of Cl and Cd at differernt $\\alpha$ as shown below.\n",
    "\n",
    "<img src=\"./Images/ClCdvsAlpha.png\" width=\"900\">\n",
    "Fig. 2. Variation of Cd and Cl with $\\alpha$.\n",
    "\n",
    "As $\\alpha$ increases, Cd decreases. The pressure drag decreases with increase in skin friction drag, resulting in a net decrease in total drag force. As $\\alpha$ increases, Cl increases (look at the values on the y axis). This is due to Magnus effect produced by rotation of the cylinder. Due to counter-clockwise rotation, the streamlines stack at the bottom of the cylinder creating a low pressure region there. The pressure at the top is high and this pressure difference gives rise to a negative lift. As the roational velocity increases, the pressure difference increases and so does the lift force. \n",
    "\n",
    "Unsteady flow over cylinder gives rise to alternating vortex shedding behind the cylinder. This vortex shedding has a shedding frequency. A non dimensionl number, Strouhal number (St) is associated with this frequency. Strouhal number is defined as $St = D\\omega/U_\\infty$, where D is the diameter of the cylinder. When $D = 1$ and $U_\\infty =1$, St is simply $\\omega$ as in this case. Strouhal number is atio of the unsteadiness in the flow to inertial forces in the flow field. Calulate the value of St for different vlaues of $\\alpha$ and compare with other experimental and numerical results. Here the values are compared with the results of Kang et al (2006)[3] & Mittal and Kumar (2003)[4] (shown to compare the trend of St with α). The results seem to be in good agreement with each other.\n",
    "\n",
    "<img src=\"./Images/strouhal.png\" width = \"600\">\n",
    "Fig. 3. Variation of St with $\\alpha$.\n",
    "\n",
    "User can also visualize the vortex shedding behind the cylinder using the case and date files exported at each time step. These files are loaded into CFD Post and an animation can be created to visualize the vortices. More details can be found [here](https://confluence.cornell.edu/display/SIMULATION/Unsteady+Flow+Past+a+Cylinder+-+Numerical+Results). A YouTube video has been created [here](https://www.youtube.com/watch?v=SrynvmBNA2E). \n",
    "\n",
    "Below is the figure showing vortex shedding for different $\\alpha$. Observe that the shedding is symmetric at $\\alpha = 0$. This is due to no-slip condition on the wall. The wake becomes narrower with increase in rotation rate. The strength of vorticity generated on the cylinder surface increases with the increase in spin rate. This is accompanied by an increase in the thickness of the region with closed streamlines around the cylinder. For vortex shedding to occur, vorticity of large enough strength must be carried to the outer flow, outside closed streamlines, via diffusion. This region of vorticity, in the outer flow, must also be a sufficiently large area of slowly moving, preferably recirculating\n",
    "fluid. Under these conditions the vorticity can pile up in a certain region of the flow and vortex shedding can take\n",
    "place. For α = 0, a large region behind the cylinder is associated with slowly moving fluid. The size of this region reduces, rapidly, with increase in spin rate. This explains the disappearance of vortex shedding for α ̴ 2.0.\n",
    "\n",
    "<img src=\"./Images/vortices.png\" width = \"600\">\n",
    "Fig. 4. Vortex shedding for different $\\alpha$.\n",
    "\n",
    "YouTube video of disappearance of vortices beind a rotating cylinder [here](https://www.youtube.com/watch?v=4xkWvW4w4kg)\n",
    "\n",
    "<img src=\"./Images/streamlines.png\" width = \"600\">\n",
    "Fig. 5. Streamlines for different $\\alpha$.\n",
    "\n",
    "Above shown is the streamlines for different $\\alpha$. Observe the stagnation point shifting above the centerline as the rotational speed of the cylinder increases. As the cylinder rotates counterclockwise, the streamlines stack at the bottom shifting the stagnation point to the top. At α=1.5 see two stagnation points, one at the centerline in the front of the cylinder and another in the wake of the cylinder. This is due to the high rotational speed of the cylinder and formation of recirculation zone (flow separation). At α=2, the stagnation point shifts up again. Note that there is no stagnation point in the wake of the cylinder as there is no recirculation zone and no vortices are presenRemovet.\n",
    "\n",
    "**Conclusion:**\n",
    "As the rotational speed of the cylinder increases, the drag force on the cylinder decreases. The pressure drag decreases with increase in skin friction drag, resulting in a net decrease in the total drag force. The lift force shows a reverse trend. The rotation of the cylinder in anticlockwise direction stacks the streamlines at the bottom of the cylinder giving rise to a low pressure region. Pressure at the top of the cylinder is high. This pressure difference gives rise to a negative lift (in the negative y-direction). This is called the Magnus Effect. As the rotational speed of the cylinder increases, the lift force increases. The rotation of the cylinder has very little effect on the Strouhal number. As the rotational speed of the cylinder increases, the Strouhal number remains almost same. This trend has been confirmed with\n",
    "experimental and other simulation results.\n",
    "\n",
    "The present work has significant implications for the flow control strategies that utilize rotating cylinder elements.\n",
    "It would be undesirable to use α < 2 because the flow is unstable.\n",
    "\n",
    "**References**\n",
    "\n",
    "[1]. \"A physical introduction to fluid mechanics\", Alexander J. Smits, John Wiley, 2000. Download the book [here](http://www.efluids.com/efluids/books/Smits_text_part1.pdf)\n",
    "\n",
    "[2]. Jeongyoung Park, Kiyoung Kwon, Haecheon Choi., 1998. “Numerical Solutions of Flow Past a Circular Cylinder at Reynolds Numbers up to 160”, KSME International Journal, Vol. 12, No. 6, pp. 1200~1205, 1998.\n",
    "\n",
    "[3]. Kang, S., 2006, “Laminar Flow over a Steadily Rotating Circular Cylinder under the Influence of Uniform Shear”, Physics of Fluid, Vol. 18, No. 4, pp. 47-106.\n",
    "\n",
    "[4]. Mittal, S. and Kumar, B., 2003, “Flow Past a Rotating Cylinder”, Journal of Fluid Mech., Vol. 476, pp. 303-334.\n",
    "\n",
    "For more details, read this [report](https://www.researchgate.net/publication/288183448_NUMERICAL_INVESTIGATION_OF_UNSTEADY_FLOW_ROUND_A_CIRCULAR_CYLINDER)"
   ]
  },
  {
   "cell_type": "code",
   "execution_count": null,
   "metadata": {
    "collapsed": true
   },
   "outputs": [],
   "source": []
  }
 ],
 "metadata": {
  "kernelspec": {
   "display_name": "Python 3",
   "language": "python",
   "name": "python3"
  },
  "language_info": {
   "codemirror_mode": {
    "name": "ipython",
    "version": 3
   },
   "file_extension": ".py",
   "mimetype": "text/x-python",
   "name": "python",
   "nbconvert_exporter": "python",
   "pygments_lexer": "ipython3",
   "version": "3.3.5"
  }
 },
 "nbformat": 4,
 "nbformat_minor": 0
}
