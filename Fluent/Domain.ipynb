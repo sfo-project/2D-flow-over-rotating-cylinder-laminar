{
 "cells": [
  {
   "cell_type": "markdown",
   "metadata": {},
   "source": [
    "# CFD Domain's Creation & Discretization\n",
    "\n",
    "**The next step for developing the CFD simulation for a case study, after the review of physics and theory behind the problem of interest, is to create the CFD/Computational domain. This CFD domain will first be created and then discretized into small finite elements (2D) or finite volumes (3D). The flow field's governing equations are then solved numerically inside these elements or volumes via an iterative process till a converged solution inside the CFD domain is obtained. This section explains the techniques and process of creation and discretization of the CFD domain for the problem of interest. It should be highlighted that this sections provides the most generic steps and techniques to create the CFD domain. Users can implement these steps/techniques in the mesher of or download the pre-generated * .msh file from the \"Simulation_Src\" folder.**\n",
    "\n",
    "This simulation is carried out in a 2D CFD domain. First a cylinder (i.e. circle in 2D) centered at the global origin and with diameter of 1 [m] is created. This is the cylinder that would interact with the incoming flow as it rotates around it's central axis. The unit dimension are chosen to ease the calculation of various field variables such as Reynolds number. As the bounds of the CFD domain a larger co-center cylinder with the smaller cylinder and diameter of 64 [m] is created. The choice of a circular domain would ease the process of meshing and setting up the boundary conditions. The sizes of the bounded cylinder is 64 times the main cylinder to ensure that the flow resembles an external flow and would not affected by artificial accelerated flow due to blockage effect. The raw geometry of the CFD domain is visualized in Fig.1:\n",
    "\n",
    "<img src=\"./Images/boundary.png\" width=\"300\">\n",
    "Fig. 1. A small and large cylinder form the raw geometry of the CFD domain.\n",
    "\n",
    "In order to define type of boundaries and their condition in simulation and ease the meshing process two extra vertical helping lines are created in the center of the domain on the raw geometry of the CFD domain that divide the entire domain into two symmetrical halves. One can later define that the flow enters the CFD domain from the left half of the outer circle with a specified velocity value and exit the domain from the right half with a specific pressure. Fig. 2 visualizes the defined surfaces as the boundaries of the CFD domain.\n",
    "\n",
    "<img src=\"./Images/BoundCondsV2.png\" width=\"300\">\n",
    "Fig. 2. The prescribed surfaces and the boundaries of the CFD domain.\n",
    "\n",
    "The meshing process starts by dividing the edges of the circles into smaller elements. The number elements or the spacing between them defines the resolution of the mesh. For flow field with complex physics, such as unsteady or turbulent flows, users need higher resolution. However, for simpler flows a coarse mesh resolution would be sufficient for the flow field simulation. Furthermore the vertical helping lines created for division of the the raw geometry into two regions should be discretized using required number of mesh elements. This mesh we have used 100 number of divisions, a bias factor of 460 and growth rate of 1.2 for the cells. We get 20000 elements for this domain. To get a more resolved mesh or a coarse mesh one has to just change the above values.\n",
    "\n",
    "<img src=\"./Images/mesh.png\" width=\"900\">\n",
    "Fig. 3. Discretization of the geometry boundaries into specified mesh elements.\n",
    "\n",
    "For a simulation in which the Reynolds number is high, the mesh needs to be highly resolved. This can be done by increasing the number of divisions and decreasing the growth rate. The wake of the cylinder also needs to be highly resolved. One suggestion is to draw a horizontal line passing through the center of the domain and behind the inner cylinder. The bias factor, growth rate and number of divisions can be varied on this to get a fine mesh in the wake. \n",
    "\n",
    "<img src=\"./Images/aftermesh.png\" width=\"900\">\n",
    "Fig. 4. Finalized and discretized CFD domain.\n",
    "\n",
    "Once the mesh is generated it's quality should be examined. This can be done using the provided features and functions defined in the meshing software. In general these functions calculate the aspect ratio of each elements and report a statistical report on them. In this stage the CFD domain is completely meshed and is ready to be setup for a CFD simulation."
   ]
  },
  {
   "cell_type": "code",
   "execution_count": null,
   "metadata": {
    "collapsed": true
   },
   "outputs": [],
   "source": []
  }
 ],
 "metadata": {
  "kernelspec": {
   "display_name": "Python 3",
   "language": "python",
   "name": "python3"
  },
  "language_info": {
   "codemirror_mode": {
    "name": "ipython",
    "version": 3
   },
   "file_extension": ".py",
   "mimetype": "text/x-python",
   "name": "python",
   "nbconvert_exporter": "python",
   "pygments_lexer": "ipython3",
   "version": "3.3.5"
  }
 },
 "nbformat": 4,
 "nbformat_minor": 0
}
