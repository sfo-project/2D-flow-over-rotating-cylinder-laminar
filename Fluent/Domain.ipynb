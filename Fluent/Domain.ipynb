{
 "cells": [
  {
   "cell_type": "markdown",
   "metadata": {},
   "source": [
    "# CFD Domain's Creation & Discretization\n",
    "\n",
    "**The next step for developing the CFD simulation for a case study, after the review of physics and theory behind the problem of interest, is to create the CFD/Computational domain. This CFD domain will first be created and then discretized into small finite elements (2D) or finite volumes (3D). The flow field's governing equations are then solved numerically inside these elements or volumes via an iterative process till a converged solution inside the CFD domain is obtained. This section explains the techniques and process of creation and discretization of the CFD domain for the problem of interest. It should be highlighted that this sections provides the most generic steps and techniques to create the CFD domain. Users can implement these steps/techniques in the mesher of their choice or Email abb91@uw.edu to obtain the pre-generated mesh.**\n",
    "\n",
    "This simulation is carried out in a 2D Domain. A cylinder (circle in 2D) is created centered at the origin and diameter of 1m. The chosen dimension is to ease the calulation of Reynold's number. Another cylinder (circle) is created concentrically with the first cylinder but with diameter of 64m. This will act as the CFD domain for our simulation. The choice of a circular domain will ease the process of meshing and setting up the boundary conditions. We choose a larger domain to ensure that the flow resembles an external flow and is not affected by the domain (farfield boundary conditions). The domain created looks like this\n",
    "\n",
    "<img src=\"./Images/namedselections.png\" width=\"300\">\n",
    "Fig. 1. The Solution domain.\n",
    "\n",
    "To set up the boundary conditions we need to divind the domain into regions. This can be done by creating vertical lines at the center of the domain. This will divide the domain into two regions. The left half of the outer circle can be specified as velocity inlet and the right half can be specified as pressure outlet. The surface of the cylinder (inner circle) can be applied as a wall with no slip boundary condition. Applications of boundary is for later but it is mentioned here to clarify why we divide the geometry into these regions. The boundary conditions are illustrated below.\n",
    "\n",
    "<img src=\"./Images/BoundCondsV2.png\" width=\"300\">\n",
    "Fig. 2. The boundary conditions.\n",
    "\n",
    "We can start by dividing the edges of the circles into a required number of divisions. The number of divisions decides the resolution of the mesh. Also we need to mesh the lines which divide the geomerty into two regions. We can use biasing and growth rate to get a more resolved mesh around the inner circle as that is our region of interest. The following pics illustrate this procedure.\n",
    "\n",
    "<img src=\"./Images/MeshEdgeCircle.jpg\" width=\"300\">\n",
    "<img src=\"./Images/MeshEdgeLine.jpg\" width=\"300\">\n",
    "Fig. 3. Meshing the edges.\n",
    "\n",
    "After this we can mesh the geometry and we get a fine resolved mesh around the inner circle and relatively coarse mesh everywhere else. The final mesh is shown below.\n",
    "\n",
    "<img src=\"./Images/MeshZoomed.jpg\" width=\"500\">\n",
    "<img src=\"./Images/MeshOverall.jpg\" width=\"500\">\n",
    "Fig. 4. Overall Mesh\n",
    "\n",
    "The overall mesh is as shown above. For this mesh we have used 100 number of divisions, a bias factor of 460 and growth rate of 1.2 for the cells. We get 20000 elements for this domain. To get a more resolved mesh or a coarse mesh one has to just change the above values. \n",
    "\n",
    "Once the mesh is generated it's quality should be examined. This can be done using the provided features and functions defined in the meshing software. In general these functions calculate the aspect ratio of each elements and report a statistical report on them. In this stage the CFD domain is completely meshed and is ready to be setup for a CFD simulation."
   ]
  },
  {
   "cell_type": "code",
   "execution_count": null,
   "metadata": {
    "collapsed": true
   },
   "outputs": [],
   "source": []
  }
 ],
 "metadata": {
  "kernelspec": {
   "display_name": "Python 3",
   "language": "python",
   "name": "python3"
  },
  "language_info": {
   "codemirror_mode": {
    "name": "ipython",
    "version": 3
   },
   "file_extension": ".py",
   "mimetype": "text/x-python",
   "name": "python",
   "nbconvert_exporter": "python",
   "pygments_lexer": "ipython3",
   "version": "3.3.5"
  }
 },
 "nbformat": 4,
 "nbformat_minor": 0
}
